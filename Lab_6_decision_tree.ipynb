{
  "nbformat": 4,
  "nbformat_minor": 0,
  "metadata": {
    "colab": {
      "name": "Lab 6 decision tree",
      "provenance": [],
      "authorship_tag": "ABX9TyNwOiXMcu0O08iOHUn9sRwa",
      "include_colab_link": true
    },
    "kernelspec": {
      "name": "python3",
      "display_name": "Python 3"
    },
    "language_info": {
      "name": "python"
    }
  },
  "cells": [
    {
      "cell_type": "markdown",
      "metadata": {
        "id": "view-in-github",
        "colab_type": "text"
      },
      "source": [
        "<a href=\"https://colab.research.google.com/github/Raynould-Joseph/Machine-Learning-/blob/main/Lab_6_decision_tree.ipynb\" target=\"_parent\"><img src=\"https://colab.research.google.com/assets/colab-badge.svg\" alt=\"Open In Colab\"/></a>"
      ]
    },
    {
      "cell_type": "code",
      "source": [
        "# import pandas module\n",
        "import pandas as pd\n",
        "import numpy as np"
      ],
      "metadata": {
        "id": "4wL3FqjO0Pjz"
      },
      "execution_count": 1,
      "outputs": []
    },
    {
      "cell_type": "code",
      "source": [
        "from google.colab import drive\n",
        "drive.mount('/content/gdrive')"
      ],
      "metadata": {
        "colab": {
          "base_uri": "https://localhost:8080/"
        },
        "id": "APpTpQdD0RTS",
        "outputId": "3ad13fce-a30f-4e99-ed3b-befd9a623852"
      },
      "execution_count": 2,
      "outputs": [
        {
          "output_type": "stream",
          "name": "stdout",
          "text": [
            "Mounted at /content/gdrive\n"
          ]
        }
      ]
    },
    {
      "cell_type": "code",
      "source": [
        "inputdata = open('/content/sample_data/sample.txt', 'r')\n",
        "data = inputdata.read()\n",
        "\n",
        "\n",
        "print(data)"
      ],
      "metadata": {
        "id": "FIOyK-IbHVGo",
        "outputId": "1875f2bf-f027-4653-83d8-eeda6a80854e",
        "colab": {
          "base_uri": "https://localhost:8080/",
          "height": 244
        }
      },
      "execution_count": null,
      "outputs": [
        {
          "output_type": "error",
          "ename": "FileNotFoundError",
          "evalue": "ignored",
          "traceback": [
            "\u001b[0;31m---------------------------------------------------------------------------\u001b[0m",
            "\u001b[0;31mFileNotFoundError\u001b[0m                         Traceback (most recent call last)",
            "\u001b[0;32m<ipython-input-19-b57bc8fbab73>\u001b[0m in \u001b[0;36m<module>\u001b[0;34m\u001b[0m\n\u001b[0;32m----> 1\u001b[0;31m \u001b[0minputdata\u001b[0m \u001b[0;34m=\u001b[0m \u001b[0mopen\u001b[0m\u001b[0;34m(\u001b[0m\u001b[0;34m'/content/sample_data/sample.txt'\u001b[0m\u001b[0;34m,\u001b[0m \u001b[0;34m'r'\u001b[0m\u001b[0;34m)\u001b[0m\u001b[0;34m\u001b[0m\u001b[0;34m\u001b[0m\u001b[0m\n\u001b[0m\u001b[1;32m      2\u001b[0m \u001b[0mdata\u001b[0m \u001b[0;34m=\u001b[0m \u001b[0minputdata\u001b[0m\u001b[0;34m.\u001b[0m\u001b[0mread\u001b[0m\u001b[0;34m(\u001b[0m\u001b[0;34m)\u001b[0m\u001b[0;34m\u001b[0m\u001b[0;34m\u001b[0m\u001b[0m\n\u001b[1;32m      3\u001b[0m \u001b[0;34m\u001b[0m\u001b[0m\n\u001b[1;32m      4\u001b[0m \u001b[0;34m\u001b[0m\u001b[0m\n\u001b[1;32m      5\u001b[0m \u001b[0mprint\u001b[0m\u001b[0;34m(\u001b[0m\u001b[0mdata\u001b[0m\u001b[0;34m)\u001b[0m\u001b[0;34m\u001b[0m\u001b[0;34m\u001b[0m\u001b[0m\n",
            "\u001b[0;31mFileNotFoundError\u001b[0m: [Errno 2] No such file or directory: '/content/sample_data/sample.txt'"
          ]
        }
      ]
    },
    {
      "cell_type": "code",
      "source": [
        "PlayTennis=pd.read_csv('/content/sample_data/play.csv')\n",
        "PlayTennis.head()\n",
        "# PlayTennis= open('/content/sample_data/play.csv', 'r')\n",
        "# data = inputdata.read()\n",
        "# PlayTennis = PlayTennis.replace(np.nan, 0)\n",
        "# PlayTennis.replace([np.inf, -np.inf], 0, inplace=True)"
      ],
      "metadata": {
        "id": "VmCeuA720W7J",
        "outputId": "c74789fa-f586-49c0-a044-9a0afe820939",
        "colab": {
          "base_uri": "https://localhost:8080/",
          "height": 206
        }
      },
      "execution_count": null,
      "outputs": [
        {
          "output_type": "execute_result",
          "data": {
            "text/plain": [
              "    outlook  temp humidity    wind play\n",
              "0     sunny   hot     high    weak   no\n",
              "1     sunny   hot     high  strong   no\n",
              "2  overcast   hot     high    weak  yes\n",
              "3      rain  mild     high    weak  yes\n",
              "4      rain  cool   normal    weak  yes"
            ],
            "text/html": [
              "\n",
              "  <div id=\"df-b894f377-7c8b-49ca-aa81-63b9677767aa\">\n",
              "    <div class=\"colab-df-container\">\n",
              "      <div>\n",
              "<style scoped>\n",
              "    .dataframe tbody tr th:only-of-type {\n",
              "        vertical-align: middle;\n",
              "    }\n",
              "\n",
              "    .dataframe tbody tr th {\n",
              "        vertical-align: top;\n",
              "    }\n",
              "\n",
              "    .dataframe thead th {\n",
              "        text-align: right;\n",
              "    }\n",
              "</style>\n",
              "<table border=\"1\" class=\"dataframe\">\n",
              "  <thead>\n",
              "    <tr style=\"text-align: right;\">\n",
              "      <th></th>\n",
              "      <th>outlook</th>\n",
              "      <th>temp</th>\n",
              "      <th>humidity</th>\n",
              "      <th>wind</th>\n",
              "      <th>play</th>\n",
              "    </tr>\n",
              "  </thead>\n",
              "  <tbody>\n",
              "    <tr>\n",
              "      <th>0</th>\n",
              "      <td>sunny</td>\n",
              "      <td>hot</td>\n",
              "      <td>high</td>\n",
              "      <td>weak</td>\n",
              "      <td>no</td>\n",
              "    </tr>\n",
              "    <tr>\n",
              "      <th>1</th>\n",
              "      <td>sunny</td>\n",
              "      <td>hot</td>\n",
              "      <td>high</td>\n",
              "      <td>strong</td>\n",
              "      <td>no</td>\n",
              "    </tr>\n",
              "    <tr>\n",
              "      <th>2</th>\n",
              "      <td>overcast</td>\n",
              "      <td>hot</td>\n",
              "      <td>high</td>\n",
              "      <td>weak</td>\n",
              "      <td>yes</td>\n",
              "    </tr>\n",
              "    <tr>\n",
              "      <th>3</th>\n",
              "      <td>rain</td>\n",
              "      <td>mild</td>\n",
              "      <td>high</td>\n",
              "      <td>weak</td>\n",
              "      <td>yes</td>\n",
              "    </tr>\n",
              "    <tr>\n",
              "      <th>4</th>\n",
              "      <td>rain</td>\n",
              "      <td>cool</td>\n",
              "      <td>normal</td>\n",
              "      <td>weak</td>\n",
              "      <td>yes</td>\n",
              "    </tr>\n",
              "  </tbody>\n",
              "</table>\n",
              "</div>\n",
              "      <button class=\"colab-df-convert\" onclick=\"convertToInteractive('df-b894f377-7c8b-49ca-aa81-63b9677767aa')\"\n",
              "              title=\"Convert this dataframe to an interactive table.\"\n",
              "              style=\"display:none;\">\n",
              "        \n",
              "  <svg xmlns=\"http://www.w3.org/2000/svg\" height=\"24px\"viewBox=\"0 0 24 24\"\n",
              "       width=\"24px\">\n",
              "    <path d=\"M0 0h24v24H0V0z\" fill=\"none\"/>\n",
              "    <path d=\"M18.56 5.44l.94 2.06.94-2.06 2.06-.94-2.06-.94-.94-2.06-.94 2.06-2.06.94zm-11 1L8.5 8.5l.94-2.06 2.06-.94-2.06-.94L8.5 2.5l-.94 2.06-2.06.94zm10 10l.94 2.06.94-2.06 2.06-.94-2.06-.94-.94-2.06-.94 2.06-2.06.94z\"/><path d=\"M17.41 7.96l-1.37-1.37c-.4-.4-.92-.59-1.43-.59-.52 0-1.04.2-1.43.59L10.3 9.45l-7.72 7.72c-.78.78-.78 2.05 0 2.83L4 21.41c.39.39.9.59 1.41.59.51 0 1.02-.2 1.41-.59l7.78-7.78 2.81-2.81c.8-.78.8-2.07 0-2.86zM5.41 20L4 18.59l7.72-7.72 1.47 1.35L5.41 20z\"/>\n",
              "  </svg>\n",
              "      </button>\n",
              "      \n",
              "  <style>\n",
              "    .colab-df-container {\n",
              "      display:flex;\n",
              "      flex-wrap:wrap;\n",
              "      gap: 12px;\n",
              "    }\n",
              "\n",
              "    .colab-df-convert {\n",
              "      background-color: #E8F0FE;\n",
              "      border: none;\n",
              "      border-radius: 50%;\n",
              "      cursor: pointer;\n",
              "      display: none;\n",
              "      fill: #1967D2;\n",
              "      height: 32px;\n",
              "      padding: 0 0 0 0;\n",
              "      width: 32px;\n",
              "    }\n",
              "\n",
              "    .colab-df-convert:hover {\n",
              "      background-color: #E2EBFA;\n",
              "      box-shadow: 0px 1px 2px rgba(60, 64, 67, 0.3), 0px 1px 3px 1px rgba(60, 64, 67, 0.15);\n",
              "      fill: #174EA6;\n",
              "    }\n",
              "\n",
              "    [theme=dark] .colab-df-convert {\n",
              "      background-color: #3B4455;\n",
              "      fill: #D2E3FC;\n",
              "    }\n",
              "\n",
              "    [theme=dark] .colab-df-convert:hover {\n",
              "      background-color: #434B5C;\n",
              "      box-shadow: 0px 1px 3px 1px rgba(0, 0, 0, 0.15);\n",
              "      filter: drop-shadow(0px 1px 2px rgba(0, 0, 0, 0.3));\n",
              "      fill: #FFFFFF;\n",
              "    }\n",
              "  </style>\n",
              "\n",
              "      <script>\n",
              "        const buttonEl =\n",
              "          document.querySelector('#df-b894f377-7c8b-49ca-aa81-63b9677767aa button.colab-df-convert');\n",
              "        buttonEl.style.display =\n",
              "          google.colab.kernel.accessAllowed ? 'block' : 'none';\n",
              "\n",
              "        async function convertToInteractive(key) {\n",
              "          const element = document.querySelector('#df-b894f377-7c8b-49ca-aa81-63b9677767aa');\n",
              "          const dataTable =\n",
              "            await google.colab.kernel.invokeFunction('convertToInteractive',\n",
              "                                                     [key], {});\n",
              "          if (!dataTable) return;\n",
              "\n",
              "          const docLinkHtml = 'Like what you see? Visit the ' +\n",
              "            '<a target=\"_blank\" href=https://colab.research.google.com/notebooks/data_table.ipynb>data table notebook</a>'\n",
              "            + ' to learn more about interactive tables.';\n",
              "          element.innerHTML = '';\n",
              "          dataTable['output_type'] = 'display_data';\n",
              "          await google.colab.output.renderOutput(dataTable, element);\n",
              "          const docLink = document.createElement('div');\n",
              "          docLink.innerHTML = docLinkHtml;\n",
              "          element.appendChild(docLink);\n",
              "        }\n",
              "      </script>\n",
              "    </div>\n",
              "  </div>\n",
              "  "
            ]
          },
          "metadata": {},
          "execution_count": 20
        }
      ]
    },
    {
      "cell_type": "code",
      "source": [
        "PlayTennis.head()"
      ],
      "metadata": {
        "colab": {
          "base_uri": "https://localhost:8080/",
          "height": 206
        },
        "id": "5G6vQtql0ZF_",
        "outputId": "d6c5def3-61ff-4345-aae7-fd59486a4b04"
      },
      "execution_count": null,
      "outputs": [
        {
          "output_type": "execute_result",
          "data": {
            "text/plain": [
              "    outlook  temp humidity    wind play\n",
              "0     sunny   hot     high    weak   no\n",
              "1     sunny   hot     high  strong   no\n",
              "2  overcast   hot     high    weak  yes\n",
              "3      rain  mild     high    weak  yes\n",
              "4      rain  cool   normal    weak  yes"
            ],
            "text/html": [
              "\n",
              "  <div id=\"df-33718115-1a4c-48f8-b668-68f0a08c57ed\">\n",
              "    <div class=\"colab-df-container\">\n",
              "      <div>\n",
              "<style scoped>\n",
              "    .dataframe tbody tr th:only-of-type {\n",
              "        vertical-align: middle;\n",
              "    }\n",
              "\n",
              "    .dataframe tbody tr th {\n",
              "        vertical-align: top;\n",
              "    }\n",
              "\n",
              "    .dataframe thead th {\n",
              "        text-align: right;\n",
              "    }\n",
              "</style>\n",
              "<table border=\"1\" class=\"dataframe\">\n",
              "  <thead>\n",
              "    <tr style=\"text-align: right;\">\n",
              "      <th></th>\n",
              "      <th>outlook</th>\n",
              "      <th>temp</th>\n",
              "      <th>humidity</th>\n",
              "      <th>wind</th>\n",
              "      <th>play</th>\n",
              "    </tr>\n",
              "  </thead>\n",
              "  <tbody>\n",
              "    <tr>\n",
              "      <th>0</th>\n",
              "      <td>sunny</td>\n",
              "      <td>hot</td>\n",
              "      <td>high</td>\n",
              "      <td>weak</td>\n",
              "      <td>no</td>\n",
              "    </tr>\n",
              "    <tr>\n",
              "      <th>1</th>\n",
              "      <td>sunny</td>\n",
              "      <td>hot</td>\n",
              "      <td>high</td>\n",
              "      <td>strong</td>\n",
              "      <td>no</td>\n",
              "    </tr>\n",
              "    <tr>\n",
              "      <th>2</th>\n",
              "      <td>overcast</td>\n",
              "      <td>hot</td>\n",
              "      <td>high</td>\n",
              "      <td>weak</td>\n",
              "      <td>yes</td>\n",
              "    </tr>\n",
              "    <tr>\n",
              "      <th>3</th>\n",
              "      <td>rain</td>\n",
              "      <td>mild</td>\n",
              "      <td>high</td>\n",
              "      <td>weak</td>\n",
              "      <td>yes</td>\n",
              "    </tr>\n",
              "    <tr>\n",
              "      <th>4</th>\n",
              "      <td>rain</td>\n",
              "      <td>cool</td>\n",
              "      <td>normal</td>\n",
              "      <td>weak</td>\n",
              "      <td>yes</td>\n",
              "    </tr>\n",
              "  </tbody>\n",
              "</table>\n",
              "</div>\n",
              "      <button class=\"colab-df-convert\" onclick=\"convertToInteractive('df-33718115-1a4c-48f8-b668-68f0a08c57ed')\"\n",
              "              title=\"Convert this dataframe to an interactive table.\"\n",
              "              style=\"display:none;\">\n",
              "        \n",
              "  <svg xmlns=\"http://www.w3.org/2000/svg\" height=\"24px\"viewBox=\"0 0 24 24\"\n",
              "       width=\"24px\">\n",
              "    <path d=\"M0 0h24v24H0V0z\" fill=\"none\"/>\n",
              "    <path d=\"M18.56 5.44l.94 2.06.94-2.06 2.06-.94-2.06-.94-.94-2.06-.94 2.06-2.06.94zm-11 1L8.5 8.5l.94-2.06 2.06-.94-2.06-.94L8.5 2.5l-.94 2.06-2.06.94zm10 10l.94 2.06.94-2.06 2.06-.94-2.06-.94-.94-2.06-.94 2.06-2.06.94z\"/><path d=\"M17.41 7.96l-1.37-1.37c-.4-.4-.92-.59-1.43-.59-.52 0-1.04.2-1.43.59L10.3 9.45l-7.72 7.72c-.78.78-.78 2.05 0 2.83L4 21.41c.39.39.9.59 1.41.59.51 0 1.02-.2 1.41-.59l7.78-7.78 2.81-2.81c.8-.78.8-2.07 0-2.86zM5.41 20L4 18.59l7.72-7.72 1.47 1.35L5.41 20z\"/>\n",
              "  </svg>\n",
              "      </button>\n",
              "      \n",
              "  <style>\n",
              "    .colab-df-container {\n",
              "      display:flex;\n",
              "      flex-wrap:wrap;\n",
              "      gap: 12px;\n",
              "    }\n",
              "\n",
              "    .colab-df-convert {\n",
              "      background-color: #E8F0FE;\n",
              "      border: none;\n",
              "      border-radius: 50%;\n",
              "      cursor: pointer;\n",
              "      display: none;\n",
              "      fill: #1967D2;\n",
              "      height: 32px;\n",
              "      padding: 0 0 0 0;\n",
              "      width: 32px;\n",
              "    }\n",
              "\n",
              "    .colab-df-convert:hover {\n",
              "      background-color: #E2EBFA;\n",
              "      box-shadow: 0px 1px 2px rgba(60, 64, 67, 0.3), 0px 1px 3px 1px rgba(60, 64, 67, 0.15);\n",
              "      fill: #174EA6;\n",
              "    }\n",
              "\n",
              "    [theme=dark] .colab-df-convert {\n",
              "      background-color: #3B4455;\n",
              "      fill: #D2E3FC;\n",
              "    }\n",
              "\n",
              "    [theme=dark] .colab-df-convert:hover {\n",
              "      background-color: #434B5C;\n",
              "      box-shadow: 0px 1px 3px 1px rgba(0, 0, 0, 0.15);\n",
              "      filter: drop-shadow(0px 1px 2px rgba(0, 0, 0, 0.3));\n",
              "      fill: #FFFFFF;\n",
              "    }\n",
              "  </style>\n",
              "\n",
              "      <script>\n",
              "        const buttonEl =\n",
              "          document.querySelector('#df-33718115-1a4c-48f8-b668-68f0a08c57ed button.colab-df-convert');\n",
              "        buttonEl.style.display =\n",
              "          google.colab.kernel.accessAllowed ? 'block' : 'none';\n",
              "\n",
              "        async function convertToInteractive(key) {\n",
              "          const element = document.querySelector('#df-33718115-1a4c-48f8-b668-68f0a08c57ed');\n",
              "          const dataTable =\n",
              "            await google.colab.kernel.invokeFunction('convertToInteractive',\n",
              "                                                     [key], {});\n",
              "          if (!dataTable) return;\n",
              "\n",
              "          const docLinkHtml = 'Like what you see? Visit the ' +\n",
              "            '<a target=\"_blank\" href=https://colab.research.google.com/notebooks/data_table.ipynb>data table notebook</a>'\n",
              "            + ' to learn more about interactive tables.';\n",
              "          element.innerHTML = '';\n",
              "          dataTable['output_type'] = 'display_data';\n",
              "          await google.colab.output.renderOutput(dataTable, element);\n",
              "          const docLink = document.createElement('div');\n",
              "          docLink.innerHTML = docLinkHtml;\n",
              "          element.appendChild(docLink);\n",
              "        }\n",
              "      </script>\n",
              "    </div>\n",
              "  </div>\n",
              "  "
            ]
          },
          "metadata": {},
          "execution_count": 21
        }
      ]
    },
    {
      "cell_type": "code",
      "execution_count": null,
      "metadata": {
        "colab": {
          "base_uri": "https://localhost:8080/",
          "height": 540
        },
        "id": "aLmTArUPz5Yr",
        "outputId": "18e0a1a8-34f9-4ea3-f365-87c5afc74b94"
      },
      "outputs": [
        {
          "output_type": "stream",
          "name": "stdout",
          "text": [
            "[[1 1]\n",
            " [3 1]]\n",
            "\n",
            "\n",
            "              precision    recall  f1-score   support\n",
            "\n",
            "           0       0.25      0.50      0.33         2\n",
            "           1       0.50      0.25      0.33         4\n",
            "\n",
            "    accuracy                           0.33         6\n",
            "   macro avg       0.38      0.38      0.33         6\n",
            "weighted avg       0.42      0.33      0.33         6\n",
            "\n"
          ]
        },
        {
          "output_type": "execute_result",
          "data": {
            "text/plain": [
              "[Text(0.5, 0.75, 'X[2] <= 0.5\\nentropy = 0.954\\nsamples = 8\\nvalue = [3, 5]'),\n",
              " Text(0.25, 0.25, 'entropy = 0.0\\nsamples = 3\\nvalue = [3, 0]'),\n",
              " Text(0.75, 0.25, 'entropy = 0.0\\nsamples = 5\\nvalue = [0, 5]')]"
            ]
          },
          "metadata": {},
          "execution_count": 22
        },
        {
          "output_type": "display_data",
          "data": {
            "text/plain": [
              "<Figure size 432x288 with 1 Axes>"
            ],
            "image/png": "[encoded data removed]"
          },
          "metadata": {
            "needs_background": "light"
          }
        }
      ],
      "source": [
        "#Sample code for decision tree algorithm\n",
        "import pandas as pd\n",
        "import numpy as np\n",
        "import matplotlib.pyplot as plt\n",
        "import seaborn as sns\n",
        "from sklearn.model_selection import train_test_split\n",
        "\n",
        "from sklearn.preprocessing import LabelEncoder\n",
        "Le = LabelEncoder()\n",
        "\n",
        "PlayTennis[\"outlook\"] = Le.fit_transform(PlayTennis[\"outlook\"])\n",
        "PlayTennis[\"temp\"] = Le.fit_transform(PlayTennis[\"temp\"])\n",
        "PlayTennis[\"humidity\"] = Le.fit_transform(PlayTennis[\"humidity\"])\n",
        "PlayTennis[\"wind\"] = Le.fit_transform(PlayTennis[\"wind\"])\n",
        "PlayTennis['play'] = Le.fit_transform(PlayTennis[\"play\"])\n",
        "\n",
        "PlayTennis\n",
        "\n",
        "y = PlayTennis['play']\n",
        "X = PlayTennis.drop(['play'],axis=1)\n",
        "X_train, X_test, y_train, y_test= train_test_split(X,y,test_size= 0.4)\n",
        "\n",
        "from sklearn import tree\n",
        "\n",
        "from sklearn.tree import DecisionTreeClassifier\n",
        "dtree= DecisionTreeClassifier(criterion = 'entropy')\n",
        "dtree.fit(X_train,y_train)\n",
        "predictions= dtree.predict(X_test)\n",
        "from sklearn.metrics import classification_report, confusion_matrix\n",
        "\n",
        "print(confusion_matrix(y_test,predictions))\n",
        "print('\\n')\n",
        "print(classification_report(y_test,predictions))\n",
        "tree.plot_tree(dtree)"
      ]
    },
    {
      "cell_type": "code",
      "source": [
        "#Sample code for decision tree algorithm\n",
        "import pandas as pd\n",
        "import numpy as np\n",
        "import matplotlib.pyplot as plt\n",
        "import seaborn as sns\n",
        "from sklearn.model_selection import train_test_split\n",
        "\n",
        "from sklearn.preprocessing import LabelEncoder\n",
        "Le = LabelEncoder()\n",
        "\n",
        "PlayTennis[\"mass_error_min\"] = Le.fit_transform(PlayTennis[\"mass_error_min\"])\n",
        "PlayTennis[\"mass_error_max\"] = Le.fit_transform(PlayTennis[\"mass_error_max\"])\n",
        "PlayTennis[\"mass_sini\"] = Le.fit_transform(PlayTennis[\"mass_sini\"])\n",
        "PlayTennis[\"mass_sini_error_min\"] = Le.fit_transform(PlayTennis[\"mass_sini_error_min\"])\n",
        "PlayTennis['star_age'] = Le.fit_transform(PlayTennis[\"star_age\"])\n",
        "\n",
        "PlayTennis\n",
        "\n",
        "y = PlayTennis['mass_sini_error_min']\n",
        "X = PlayTennis.drop(['mass_sini_error_min'],axis=1)\n",
        "X_train, X_test, y_train, y_test= train_test_split(X,y,test_size= 0.4)\n",
        "\n",
        "from sklearn import tree\n",
        "\n",
        "from sklearn.tree import DecisionTreeClassifier\n",
        "dtree= DecisionTreeClassifier(criterion = 'entropy')\n",
        "dtree.fit(X_train,y_train)\n",
        "predictions= dtree.predict(X_test)\n",
        "from sklearn.metrics import classification_report, confusion_matrix\n",
        "\n",
        "print(confusion_matrix(y_test,predictions))\n",
        "print('\\n')\n",
        "print(classification_report(y_test,predictions))\n",
        "tree.plot_tree(dtree)"
      ],
      "metadata": {
        "id": "fn5cMi3eCFzf"
      },
      "execution_count": null,
      "outputs": []
    },
    {
      "cell_type": "markdown",
      "source": [
        "SECOND"
      ],
      "metadata": {
        "id": "6MRAhCrXEb98"
      }
    },
    {
      "cell_type": "code",
      "source": [
        "df=pd.read_csv('/content/sample_data/solar.csv')\n",
        "df"
      ],
      "metadata": {
        "id": "xRznS7fRCFBH",
        "outputId": "acf493d8-a05f-45c0-df1d-99b9c6f64c5a",
        "colab": {
          "base_uri": "https://localhost:8080/",
          "height": 537
        }
      },
      "execution_count": 5,
      "outputs": [
        {
          "output_type": "execute_result",
          "data": {
            "text/plain": [
              "       Catalog Number      Calendar Date Eclipse Time  Delta T (s)  \\\n",
              "0                   1      -1999 June 12      3:14:51        46438   \n",
              "1                   2   -1999 December 5     23:45:23        46426   \n",
              "2                   3       -1998 June 1     18:09:16        46415   \n",
              "3                   4  -1998 November 25      5:57:03        46403   \n",
              "4                   5     -1997 April 22     13:19:56        46393   \n",
              "...               ...                ...          ...          ...   \n",
              "11893           11894   2998 December 10      3:18:31         4414   \n",
              "11894           11895         2999 May 6     23:23:57         4417   \n",
              "11895           11896    2999 October 30      9:34:33         4420   \n",
              "11896           11897      3000 April 26     14:18:06         4424   \n",
              "11897           11898    3000 October 19     16:10:16         4428   \n",
              "\n",
              "       Lunation Number  Saros Number   Gamma  Eclipse Magnitude  Sun Altitude  \\\n",
              "0               -49456             5 -0.2701             1.0733            74   \n",
              "1               -49450            10 -0.2317             0.9382            76   \n",
              "2               -49444            15  0.4994             1.0284            60   \n",
              "3               -49438            20 -0.9045             0.9806            25   \n",
              "4               -49433           -13 -1.4670             0.1611             0   \n",
              "...                ...           ...     ...                ...           ...   \n",
              "11893            12355           187  1.2838             0.4773             0   \n",
              "11894            12360           154  0.8388             1.0566            33   \n",
              "11895            12366           159 -1.0023             0.9586             0   \n",
              "11896            12372           164  0.1310             1.0222            82   \n",
              "11897            12378           169 -0.2303             1.0049            77   \n",
              "\n",
              "       Sun Azimuth Path Width (km) Eclipse TpBype  \n",
              "0              344             247              T  \n",
              "1               21             236              A  \n",
              "2              151             111              T  \n",
              "3               74             162              A  \n",
              "4              281             NaN              P  \n",
              "...            ...             ...            ...  \n",
              "11893          179             NaN              P  \n",
              "11894          146             345              T  \n",
              "11895          137               -             A-  \n",
              "11896          166              76              T  \n",
              "11897           16              17              H  \n",
              "\n",
              "[11898 rows x 12 columns]"
            ],
            "text/html": [
              "\n",
              "  <div id=\"df-41a28aee-25ee-45f2-94e8-58b494ba2313\">\n",
              "    <div class=\"colab-df-container\">\n",
              "      <div>\n",
              "<style scoped>\n",
              "    .dataframe tbody tr th:only-of-type {\n",
              "        vertical-align: middle;\n",
              "    }\n",
              "\n",
              "    .dataframe tbody tr th {\n",
              "        vertical-align: top;\n",
              "    }\n",
              "\n",
              "    .dataframe thead th {\n",
              "        text-align: right;\n",
              "    }\n",
              "</style>\n",
              "<table border=\"1\" class=\"dataframe\">\n",
              "  <thead>\n",
              "    <tr style=\"text-align: right;\">\n",
              "      <th></th>\n",
              "      <th>Catalog Number</th>\n",
              "      <th>Calendar Date</th>\n",
              "      <th>Eclipse Time</th>\n",
              "      <th>Delta T (s)</th>\n",
              "      <th>Lunation Number</th>\n",
              "      <th>Saros Number</th>\n",
              "      <th>Gamma</th>\n",
              "      <th>Eclipse Magnitude</th>\n",
              "      <th>Sun Altitude</th>\n",
              "      <th>Sun Azimuth</th>\n",
              "      <th>Path Width (km)</th>\n",
              "      <th>Eclipse TpBype</th>\n",
              "    </tr>\n",
              "  </thead>\n",
              "  <tbody>\n",
              "    <tr>\n",
              "      <th>0</th>\n",
              "      <td>1</td>\n",
              "      <td>-1999 June 12</td>\n",
              "      <td>3:14:51</td>\n",
              "      <td>46438</td>\n",
              "      <td>-49456</td>\n",
              "      <td>5</td>\n",
              "      <td>-0.2701</td>\n",
              "      <td>1.0733</td>\n",
              "      <td>74</td>\n",
              "      <td>344</td>\n",
              "      <td>247</td>\n",
              "      <td>T</td>\n",
              "    </tr>\n",
              "    <tr>\n",
              "      <th>1</th>\n",
              "      <td>2</td>\n",
              "      <td>-1999 December 5</td>\n",
              "      <td>23:45:23</td>\n",
              "      <td>46426</td>\n",
              "      <td>-49450</td>\n",
              "      <td>10</td>\n",
              "      <td>-0.2317</td>\n",
              "      <td>0.9382</td>\n",
              "      <td>76</td>\n",
              "      <td>21</td>\n",
              "      <td>236</td>\n",
              "      <td>A</td>\n",
              "    </tr>\n",
              "    <tr>\n",
              "      <th>2</th>\n",
              "      <td>3</td>\n",
              "      <td>-1998 June 1</td>\n",
              "      <td>18:09:16</td>\n",
              "      <td>46415</td>\n",
              "      <td>-49444</td>\n",
              "      <td>15</td>\n",
              "      <td>0.4994</td>\n",
              "      <td>1.0284</td>\n",
              "      <td>60</td>\n",
              "      <td>151</td>\n",
              "      <td>111</td>\n",
              "      <td>T</td>\n",
              "    </tr>\n",
              "    <tr>\n",
              "      <th>3</th>\n",
              "      <td>4</td>\n",
              "      <td>-1998 November 25</td>\n",
              "      <td>5:57:03</td>\n",
              "      <td>46403</td>\n",
              "      <td>-49438</td>\n",
              "      <td>20</td>\n",
              "      <td>-0.9045</td>\n",
              "      <td>0.9806</td>\n",
              "      <td>25</td>\n",
              "      <td>74</td>\n",
              "      <td>162</td>\n",
              "      <td>A</td>\n",
              "    </tr>\n",
              "    <tr>\n",
              "      <th>4</th>\n",
              "      <td>5</td>\n",
              "      <td>-1997 April 22</td>\n",
              "      <td>13:19:56</td>\n",
              "      <td>46393</td>\n",
              "      <td>-49433</td>\n",
              "      <td>-13</td>\n",
              "      <td>-1.4670</td>\n",
              "      <td>0.1611</td>\n",
              "      <td>0</td>\n",
              "      <td>281</td>\n",
              "      <td>NaN</td>\n",
              "      <td>P</td>\n",
              "    </tr>\n",
              "    <tr>\n",
              "      <th>...</th>\n",
              "      <td>...</td>\n",
              "      <td>...</td>\n",
              "      <td>...</td>\n",
              "      <td>...</td>\n",
              "      <td>...</td>\n",
              "      <td>...</td>\n",
              "      <td>...</td>\n",
              "      <td>...</td>\n",
              "      <td>...</td>\n",
              "      <td>...</td>\n",
              "      <td>...</td>\n",
              "      <td>...</td>\n",
              "    </tr>\n",
              "    <tr>\n",
              "      <th>11893</th>\n",
              "      <td>11894</td>\n",
              "      <td>2998 December 10</td>\n",
              "      <td>3:18:31</td>\n",
              "      <td>4414</td>\n",
              "      <td>12355</td>\n",
              "      <td>187</td>\n",
              "      <td>1.2838</td>\n",
              "      <td>0.4773</td>\n",
              "      <td>0</td>\n",
              "      <td>179</td>\n",
              "      <td>NaN</td>\n",
              "      <td>P</td>\n",
              "    </tr>\n",
              "    <tr>\n",
              "      <th>11894</th>\n",
              "      <td>11895</td>\n",
              "      <td>2999 May 6</td>\n",
              "      <td>23:23:57</td>\n",
              "      <td>4417</td>\n",
              "      <td>12360</td>\n",
              "      <td>154</td>\n",
              "      <td>0.8388</td>\n",
              "      <td>1.0566</td>\n",
              "      <td>33</td>\n",
              "      <td>146</td>\n",
              "      <td>345</td>\n",
              "      <td>T</td>\n",
              "    </tr>\n",
              "    <tr>\n",
              "      <th>11895</th>\n",
              "      <td>11896</td>\n",
              "      <td>2999 October 30</td>\n",
              "      <td>9:34:33</td>\n",
              "      <td>4420</td>\n",
              "      <td>12366</td>\n",
              "      <td>159</td>\n",
              "      <td>-1.0023</td>\n",
              "      <td>0.9586</td>\n",
              "      <td>0</td>\n",
              "      <td>137</td>\n",
              "      <td>-</td>\n",
              "      <td>A-</td>\n",
              "    </tr>\n",
              "    <tr>\n",
              "      <th>11896</th>\n",
              "      <td>11897</td>\n",
              "      <td>3000 April 26</td>\n",
              "      <td>14:18:06</td>\n",
              "      <td>4424</td>\n",
              "      <td>12372</td>\n",
              "      <td>164</td>\n",
              "      <td>0.1310</td>\n",
              "      <td>1.0222</td>\n",
              "      <td>82</td>\n",
              "      <td>166</td>\n",
              "      <td>76</td>\n",
              "      <td>T</td>\n",
              "    </tr>\n",
              "    <tr>\n",
              "      <th>11897</th>\n",
              "      <td>11898</td>\n",
              "      <td>3000 October 19</td>\n",
              "      <td>16:10:16</td>\n",
              "      <td>4428</td>\n",
              "      <td>12378</td>\n",
              "      <td>169</td>\n",
              "      <td>-0.2303</td>\n",
              "      <td>1.0049</td>\n",
              "      <td>77</td>\n",
              "      <td>16</td>\n",
              "      <td>17</td>\n",
              "      <td>H</td>\n",
              "    </tr>\n",
              "  </tbody>\n",
              "</table>\n",
              "<p>11898 rows × 12 columns</p>\n",
              "</div>\n",
              "      <button class=\"colab-df-convert\" onclick=\"convertToInteractive('df-41a28aee-25ee-45f2-94e8-58b494ba2313')\"\n",
              "              title=\"Convert this dataframe to an interactive table.\"\n",
              "              style=\"display:none;\">\n",
              "        \n",
              "  <svg xmlns=\"http://www.w3.org/2000/svg\" height=\"24px\"viewBox=\"0 0 24 24\"\n",
              "       width=\"24px\">\n",
              "    <path d=\"M0 0h24v24H0V0z\" fill=\"none\"/>\n",
              "    <path d=\"M18.56 5.44l.94 2.06.94-2.06 2.06-.94-2.06-.94-.94-2.06-.94 2.06-2.06.94zm-11 1L8.5 8.5l.94-2.06 2.06-.94-2.06-.94L8.5 2.5l-.94 2.06-2.06.94zm10 10l.94 2.06.94-2.06 2.06-.94-2.06-.94-.94-2.06-.94 2.06-2.06.94z\"/><path d=\"M17.41 7.96l-1.37-1.37c-.4-.4-.92-.59-1.43-.59-.52 0-1.04.2-1.43.59L10.3 9.45l-7.72 7.72c-.78.78-.78 2.05 0 2.83L4 21.41c.39.39.9.59 1.41.59.51 0 1.02-.2 1.41-.59l7.78-7.78 2.81-2.81c.8-.78.8-2.07 0-2.86zM5.41 20L4 18.59l7.72-7.72 1.47 1.35L5.41 20z\"/>\n",
              "  </svg>\n",
              "      </button>\n",
              "      \n",
              "  <style>\n",
              "    .colab-df-container {\n",
              "      display:flex;\n",
              "      flex-wrap:wrap;\n",
              "      gap: 12px;\n",
              "    }\n",
              "\n",
              "    .colab-df-convert {\n",
              "      background-color: #E8F0FE;\n",
              "      border: none;\n",
              "      border-radius: 50%;\n",
              "      cursor: pointer;\n",
              "      display: none;\n",
              "      fill: #1967D2;\n",
              "      height: 32px;\n",
              "      padding: 0 0 0 0;\n",
              "      width: 32px;\n",
              "    }\n",
              "\n",
              "    .colab-df-convert:hover {\n",
              "      background-color: #E2EBFA;\n",
              "      box-shadow: 0px 1px 2px rgba(60, 64, 67, 0.3), 0px 1px 3px 1px rgba(60, 64, 67, 0.15);\n",
              "      fill: #174EA6;\n",
              "    }\n",
              "\n",
              "    [theme=dark] .colab-df-convert {\n",
              "      background-color: #3B4455;\n",
              "      fill: #D2E3FC;\n",
              "    }\n",
              "\n",
              "    [theme=dark] .colab-df-convert:hover {\n",
              "      background-color: #434B5C;\n",
              "      box-shadow: 0px 1px 3px 1px rgba(0, 0, 0, 0.15);\n",
              "      filter: drop-shadow(0px 1px 2px rgba(0, 0, 0, 0.3));\n",
              "      fill: #FFFFFF;\n",
              "    }\n",
              "  </style>\n",
              "\n",
              "      <script>\n",
              "        const buttonEl =\n",
              "          document.querySelector('#df-41a28aee-25ee-45f2-94e8-58b494ba2313 button.colab-df-convert');\n",
              "        buttonEl.style.display =\n",
              "          google.colab.kernel.accessAllowed ? 'block' : 'none';\n",
              "\n",
              "        async function convertToInteractive(key) {\n",
              "          const element = document.querySelector('#df-41a28aee-25ee-45f2-94e8-58b494ba2313');\n",
              "          const dataTable =\n",
              "            await google.colab.kernel.invokeFunction('convertToInteractive',\n",
              "                                                     [key], {});\n",
              "          if (!dataTable) return;\n",
              "\n",
              "          const docLinkHtml = 'Like what you see? Visit the ' +\n",
              "            '<a target=\"_blank\" href=https://colab.research.google.com/notebooks/data_table.ipynb>data table notebook</a>'\n",
              "            + ' to learn more about interactive tables.';\n",
              "          element.innerHTML = '';\n",
              "          dataTable['output_type'] = 'display_data';\n",
              "          await google.colab.output.renderOutput(dataTable, element);\n",
              "          const docLink = document.createElement('div');\n",
              "          docLink.innerHTML = docLinkHtml;\n",
              "          element.appendChild(docLink);\n",
              "        }\n",
              "      </script>\n",
              "    </div>\n",
              "  </div>\n",
              "  "
            ]
          },
          "metadata": {},
          "execution_count": 5
        }
      ]
    },
    {
      "cell_type": "code",
      "source": [
        "from pandas.core.strings.accessor import str_extractall\n",
        "def numerizecolumns(name,df):\n",
        "  dict={}\n",
        "  listt=list(df[str(name)].unique())\n",
        "  print(listt)\n",
        "  for i in listt:\n",
        "    # print(\"i values is :\"+str(i))\n",
        "    for j in range(0,len(listt)):\n",
        "      # print(\"j values is \"+str(j))\n",
        "      if j not in dict.values():\n",
        "        # print(\"j value adding is\"+str(j))\n",
        "        dict.update({str(i):j})\n",
        "  df[str(name)]=df[str(name)].map(dict)\n",
        "  print(dict)\n",
        "\n",
        "\n",
        "\n",
        "numerizecolumns(\"Eclipse TpBype\",df)"
      ],
      "metadata": {
        "id": "GwCxJxMcHx4b",
        "outputId": "909947b7-cc3d-4ea8-8a07-44618fc88872",
        "colab": {
          "base_uri": "https://localhost:8080/"
        }
      },
      "execution_count": 6,
      "outputs": [
        {
          "output_type": "stream",
          "name": "stdout",
          "text": [
            "['T', 'A', 'P', 'Pb', 'H', 'Pe', 'A+', 'H3', 'Hm', 'An', 'H2', 'Tm', 'Am', 'T+', 'A-', 'T-', 'As', 'Tn', 'Ts']\n",
            "{'T': 18, 'A': 17, 'P': 16, 'Pb': 15, 'H': 14, 'Pe': 13, 'A+': 12, 'H3': 11, 'Hm': 10, 'An': 9, 'H2': 8, 'Tm': 7, 'Am': 6, 'T+': 5, 'A-': 4, 'T-': 3, 'As': 2, 'Tn': 1, 'Ts': 0}\n"
          ]
        }
      ]
    },
    {
      "cell_type": "code",
      "source": [
        "df.columns.unique()"
      ],
      "metadata": {
        "id": "Z5Anrro7INfe",
        "outputId": "defc23e9-b3b3-4a13-b8fd-d86a1621abbf",
        "colab": {
          "base_uri": "https://localhost:8080/"
        }
      },
      "execution_count": 7,
      "outputs": [
        {
          "output_type": "execute_result",
          "data": {
            "text/plain": [
              "Index(['Catalog Number', 'Calendar Date', 'Eclipse Time', 'Delta T (s)',\n",
              "       'Lunation Number', 'Saros Number', 'Gamma', 'Eclipse Magnitude',\n",
              "       'Sun Altitude', 'Sun Azimuth', 'Path Width (km)', 'Eclipse TpBype'],\n",
              "      dtype='object')"
            ]
          },
          "metadata": {},
          "execution_count": 7
        }
      ]
    },
    {
      "cell_type": "code",
      "source": [
        "df2=df[['Catalog Number', 'Calendar Date', 'Eclipse Time', 'Delta T (s)',\n",
        "       'Lunation Number', 'Saros Number', 'Gamma', 'Eclipse Magnitude',\n",
        "       'Sun Altitude', 'Sun Azimuth', 'Path Width (km)', 'Eclipse TpBype']]"
      ],
      "metadata": {
        "id": "4BxD6EbBIRPu"
      },
      "execution_count": 8,
      "outputs": []
    },
    {
      "cell_type": "code",
      "source": [
        "df2"
      ],
      "metadata": {
        "id": "c-2hks6XIbPZ",
        "outputId": "58a7dd0e-61f6-440f-e3a5-6b4b6c6eea79",
        "colab": {
          "base_uri": "https://localhost:8080/",
          "height": 537
        }
      },
      "execution_count": 23,
      "outputs": [
        {
          "output_type": "execute_result",
          "data": {
            "text/plain": [
              "       Catalog Number      Calendar Date Eclipse Time  Delta T (s)  \\\n",
              "0                   1      -1999 June 12      3:14:51        46438   \n",
              "1                   2   -1999 December 5     23:45:23        46426   \n",
              "2                   3       -1998 June 1     18:09:16        46415   \n",
              "3                   4  -1998 November 25      5:57:03        46403   \n",
              "4                   5     -1997 April 22     13:19:56        46393   \n",
              "...               ...                ...          ...          ...   \n",
              "11893           11894   2998 December 10      3:18:31         4414   \n",
              "11894           11895         2999 May 6     23:23:57         4417   \n",
              "11895           11896    2999 October 30      9:34:33         4420   \n",
              "11896           11897      3000 April 26     14:18:06         4424   \n",
              "11897           11898    3000 October 19     16:10:16         4428   \n",
              "\n",
              "       Lunation Number  Saros Number   Gamma  Eclipse Magnitude  Sun Altitude  \\\n",
              "0               -49456             5 -0.2701             1.0733            74   \n",
              "1               -49450            10 -0.2317             0.9382            76   \n",
              "2               -49444            15  0.4994             1.0284            60   \n",
              "3               -49438            20 -0.9045             0.9806            25   \n",
              "4               -49433           -13 -1.4670             0.1611             0   \n",
              "...                ...           ...     ...                ...           ...   \n",
              "11893            12355           187  1.2838             0.4773             0   \n",
              "11894            12360           154  0.8388             1.0566            33   \n",
              "11895            12366           159 -1.0023             0.9586             0   \n",
              "11896            12372           164  0.1310             1.0222            82   \n",
              "11897            12378           169 -0.2303             1.0049            77   \n",
              "\n",
              "       Sun Azimuth Path Width (km)  Eclipse TpBype  \n",
              "0              344             247              18  \n",
              "1               21             236              17  \n",
              "2              151             111              18  \n",
              "3               74             162              17  \n",
              "4              281             NaN              16  \n",
              "...            ...             ...             ...  \n",
              "11893          179             NaN              16  \n",
              "11894          146             345              18  \n",
              "11895          137               -               4  \n",
              "11896          166              76              18  \n",
              "11897           16              17              14  \n",
              "\n",
              "[11898 rows x 12 columns]"
            ],
            "text/html": [
              "\n",
              "  <div id=\"df-e2c30968-e385-4a83-903f-cde7dc10de28\">\n",
              "    <div class=\"colab-df-container\">\n",
              "      <div>\n",
              "<style scoped>\n",
              "    .dataframe tbody tr th:only-of-type {\n",
              "        vertical-align: middle;\n",
              "    }\n",
              "\n",
              "    .dataframe tbody tr th {\n",
              "        vertical-align: top;\n",
              "    }\n",
              "\n",
              "    .dataframe thead th {\n",
              "        text-align: right;\n",
              "    }\n",
              "</style>\n",
              "<table border=\"1\" class=\"dataframe\">\n",
              "  <thead>\n",
              "    <tr style=\"text-align: right;\">\n",
              "      <th></th>\n",
              "      <th>Catalog Number</th>\n",
              "      <th>Calendar Date</th>\n",
              "      <th>Eclipse Time</th>\n",
              "      <th>Delta T (s)</th>\n",
              "      <th>Lunation Number</th>\n",
              "      <th>Saros Number</th>\n",
              "      <th>Gamma</th>\n",
              "      <th>Eclipse Magnitude</th>\n",
              "      <th>Sun Altitude</th>\n",
              "      <th>Sun Azimuth</th>\n",
              "      <th>Path Width (km)</th>\n",
              "      <th>Eclipse TpBype</th>\n",
              "    </tr>\n",
              "  </thead>\n",
              "  <tbody>\n",
              "    <tr>\n",
              "      <th>0</th>\n",
              "      <td>1</td>\n",
              "      <td>-1999 June 12</td>\n",
              "      <td>3:14:51</td>\n",
              "      <td>46438</td>\n",
              "      <td>-49456</td>\n",
              "      <td>5</td>\n",
              "      <td>-0.2701</td>\n",
              "      <td>1.0733</td>\n",
              "      <td>74</td>\n",
              "      <td>344</td>\n",
              "      <td>247</td>\n",
              "      <td>18</td>\n",
              "    </tr>\n",
              "    <tr>\n",
              "      <th>1</th>\n",
              "      <td>2</td>\n",
              "      <td>-1999 December 5</td>\n",
              "      <td>23:45:23</td>\n",
              "      <td>46426</td>\n",
              "      <td>-49450</td>\n",
              "      <td>10</td>\n",
              "      <td>-0.2317</td>\n",
              "      <td>0.9382</td>\n",
              "      <td>76</td>\n",
              "      <td>21</td>\n",
              "      <td>236</td>\n",
              "      <td>17</td>\n",
              "    </tr>\n",
              "    <tr>\n",
              "      <th>2</th>\n",
              "      <td>3</td>\n",
              "      <td>-1998 June 1</td>\n",
              "      <td>18:09:16</td>\n",
              "      <td>46415</td>\n",
              "      <td>-49444</td>\n",
              "      <td>15</td>\n",
              "      <td>0.4994</td>\n",
              "      <td>1.0284</td>\n",
              "      <td>60</td>\n",
              "      <td>151</td>\n",
              "      <td>111</td>\n",
              "      <td>18</td>\n",
              "    </tr>\n",
              "    <tr>\n",
              "      <th>3</th>\n",
              "      <td>4</td>\n",
              "      <td>-1998 November 25</td>\n",
              "      <td>5:57:03</td>\n",
              "      <td>46403</td>\n",
              "      <td>-49438</td>\n",
              "      <td>20</td>\n",
              "      <td>-0.9045</td>\n",
              "      <td>0.9806</td>\n",
              "      <td>25</td>\n",
              "      <td>74</td>\n",
              "      <td>162</td>\n",
              "      <td>17</td>\n",
              "    </tr>\n",
              "    <tr>\n",
              "      <th>4</th>\n",
              "      <td>5</td>\n",
              "      <td>-1997 April 22</td>\n",
              "      <td>13:19:56</td>\n",
              "      <td>46393</td>\n",
              "      <td>-49433</td>\n",
              "      <td>-13</td>\n",
              "      <td>-1.4670</td>\n",
              "      <td>0.1611</td>\n",
              "      <td>0</td>\n",
              "      <td>281</td>\n",
              "      <td>NaN</td>\n",
              "      <td>16</td>\n",
              "    </tr>\n",
              "    <tr>\n",
              "      <th>...</th>\n",
              "      <td>...</td>\n",
              "      <td>...</td>\n",
              "      <td>...</td>\n",
              "      <td>...</td>\n",
              "      <td>...</td>\n",
              "      <td>...</td>\n",
              "      <td>...</td>\n",
              "      <td>...</td>\n",
              "      <td>...</td>\n",
              "      <td>...</td>\n",
              "      <td>...</td>\n",
              "      <td>...</td>\n",
              "    </tr>\n",
              "    <tr>\n",
              "      <th>11893</th>\n",
              "      <td>11894</td>\n",
              "      <td>2998 December 10</td>\n",
              "      <td>3:18:31</td>\n",
              "      <td>4414</td>\n",
              "      <td>12355</td>\n",
              "      <td>187</td>\n",
              "      <td>1.2838</td>\n",
              "      <td>0.4773</td>\n",
              "      <td>0</td>\n",
              "      <td>179</td>\n",
              "      <td>NaN</td>\n",
              "      <td>16</td>\n",
              "    </tr>\n",
              "    <tr>\n",
              "      <th>11894</th>\n",
              "      <td>11895</td>\n",
              "      <td>2999 May 6</td>\n",
              "      <td>23:23:57</td>\n",
              "      <td>4417</td>\n",
              "      <td>12360</td>\n",
              "      <td>154</td>\n",
              "      <td>0.8388</td>\n",
              "      <td>1.0566</td>\n",
              "      <td>33</td>\n",
              "      <td>146</td>\n",
              "      <td>345</td>\n",
              "      <td>18</td>\n",
              "    </tr>\n",
              "    <tr>\n",
              "      <th>11895</th>\n",
              "      <td>11896</td>\n",
              "      <td>2999 October 30</td>\n",
              "      <td>9:34:33</td>\n",
              "      <td>4420</td>\n",
              "      <td>12366</td>\n",
              "      <td>159</td>\n",
              "      <td>-1.0023</td>\n",
              "      <td>0.9586</td>\n",
              "      <td>0</td>\n",
              "      <td>137</td>\n",
              "      <td>-</td>\n",
              "      <td>4</td>\n",
              "    </tr>\n",
              "    <tr>\n",
              "      <th>11896</th>\n",
              "      <td>11897</td>\n",
              "      <td>3000 April 26</td>\n",
              "      <td>14:18:06</td>\n",
              "      <td>4424</td>\n",
              "      <td>12372</td>\n",
              "      <td>164</td>\n",
              "      <td>0.1310</td>\n",
              "      <td>1.0222</td>\n",
              "      <td>82</td>\n",
              "      <td>166</td>\n",
              "      <td>76</td>\n",
              "      <td>18</td>\n",
              "    </tr>\n",
              "    <tr>\n",
              "      <th>11897</th>\n",
              "      <td>11898</td>\n",
              "      <td>3000 October 19</td>\n",
              "      <td>16:10:16</td>\n",
              "      <td>4428</td>\n",
              "      <td>12378</td>\n",
              "      <td>169</td>\n",
              "      <td>-0.2303</td>\n",
              "      <td>1.0049</td>\n",
              "      <td>77</td>\n",
              "      <td>16</td>\n",
              "      <td>17</td>\n",
              "      <td>14</td>\n",
              "    </tr>\n",
              "  </tbody>\n",
              "</table>\n",
              "<p>11898 rows × 12 columns</p>\n",
              "</div>\n",
              "      <button class=\"colab-df-convert\" onclick=\"convertToInteractive('df-e2c30968-e385-4a83-903f-cde7dc10de28')\"\n",
              "              title=\"Convert this dataframe to an interactive table.\"\n",
              "              style=\"display:none;\">\n",
              "        \n",
              "  <svg xmlns=\"http://www.w3.org/2000/svg\" height=\"24px\"viewBox=\"0 0 24 24\"\n",
              "       width=\"24px\">\n",
              "    <path d=\"M0 0h24v24H0V0z\" fill=\"none\"/>\n",
              "    <path d=\"M18.56 5.44l.94 2.06.94-2.06 2.06-.94-2.06-.94-.94-2.06-.94 2.06-2.06.94zm-11 1L8.5 8.5l.94-2.06 2.06-.94-2.06-.94L8.5 2.5l-.94 2.06-2.06.94zm10 10l.94 2.06.94-2.06 2.06-.94-2.06-.94-.94-2.06-.94 2.06-2.06.94z\"/><path d=\"M17.41 7.96l-1.37-1.37c-.4-.4-.92-.59-1.43-.59-.52 0-1.04.2-1.43.59L10.3 9.45l-7.72 7.72c-.78.78-.78 2.05 0 2.83L4 21.41c.39.39.9.59 1.41.59.51 0 1.02-.2 1.41-.59l7.78-7.78 2.81-2.81c.8-.78.8-2.07 0-2.86zM5.41 20L4 18.59l7.72-7.72 1.47 1.35L5.41 20z\"/>\n",
              "  </svg>\n",
              "      </button>\n",
              "      \n",
              "  <style>\n",
              "    .colab-df-container {\n",
              "      display:flex;\n",
              "      flex-wrap:wrap;\n",
              "      gap: 12px;\n",
              "    }\n",
              "\n",
              "    .colab-df-convert {\n",
              "      background-color: #E8F0FE;\n",
              "      border: none;\n",
              "      border-radius: 50%;\n",
              "      cursor: pointer;\n",
              "      display: none;\n",
              "      fill: #1967D2;\n",
              "      height: 32px;\n",
              "      padding: 0 0 0 0;\n",
              "      width: 32px;\n",
              "    }\n",
              "\n",
              "    .colab-df-convert:hover {\n",
              "      background-color: #E2EBFA;\n",
              "      box-shadow: 0px 1px 2px rgba(60, 64, 67, 0.3), 0px 1px 3px 1px rgba(60, 64, 67, 0.15);\n",
              "      fill: #174EA6;\n",
              "    }\n",
              "\n",
              "    [theme=dark] .colab-df-convert {\n",
              "      background-color: #3B4455;\n",
              "      fill: #D2E3FC;\n",
              "    }\n",
              "\n",
              "    [theme=dark] .colab-df-convert:hover {\n",
              "      background-color: #434B5C;\n",
              "      box-shadow: 0px 1px 3px 1px rgba(0, 0, 0, 0.15);\n",
              "      filter: drop-shadow(0px 1px 2px rgba(0, 0, 0, 0.3));\n",
              "      fill: #FFFFFF;\n",
              "    }\n",
              "  </style>\n",
              "\n",
              "      <script>\n",
              "        const buttonEl =\n",
              "          document.querySelector('#df-e2c30968-e385-4a83-903f-cde7dc10de28 button.colab-df-convert');\n",
              "        buttonEl.style.display =\n",
              "          google.colab.kernel.accessAllowed ? 'block' : 'none';\n",
              "\n",
              "        async function convertToInteractive(key) {\n",
              "          const element = document.querySelector('#df-e2c30968-e385-4a83-903f-cde7dc10de28');\n",
              "          const dataTable =\n",
              "            await google.colab.kernel.invokeFunction('convertToInteractive',\n",
              "                                                     [key], {});\n",
              "          if (!dataTable) return;\n",
              "\n",
              "          const docLinkHtml = 'Like what you see? Visit the ' +\n",
              "            '<a target=\"_blank\" href=https://colab.research.google.com/notebooks/data_table.ipynb>data table notebook</a>'\n",
              "            + ' to learn more about interactive tables.';\n",
              "          element.innerHTML = '';\n",
              "          dataTable['output_type'] = 'display_data';\n",
              "          await google.colab.output.renderOutput(dataTable, element);\n",
              "          const docLink = document.createElement('div');\n",
              "          docLink.innerHTML = docLinkHtml;\n",
              "          element.appendChild(docLink);\n",
              "        }\n",
              "      </script>\n",
              "    </div>\n",
              "  </div>\n",
              "  "
            ]
          },
          "metadata": {},
          "execution_count": 23
        }
      ]
    },
    {
      "cell_type": "code",
      "source": [
        "mean = df.loc[df['B'].eq(1), 'A'].mean()\n",
        "print (mean)\n",
        "54.0\n",
        "\n",
        "mask = df['A'].lt(mean) & df['B'].eq(-1)\n",
        "df.loc[mask, 'A'] = mean"
      ],
      "metadata": {
        "id": "cb99zE62IgHh",
        "outputId": "ceb63413-565b-4e75-e6b9-770339d833be",
        "colab": {
          "base_uri": "https://localhost:8080/",
          "height": 523
        }
      },
      "execution_count": 12,
      "outputs": [
        {
          "output_type": "error",
          "ename": "KeyError",
          "evalue": "ignored",
          "traceback": [
            "\u001b[0;31m---------------------------------------------------------------------------\u001b[0m",
            "\u001b[0;31mKeyError\u001b[0m                                  Traceback (most recent call last)",
            "\u001b[0;32m/usr/local/lib/python3.7/dist-packages/pandas/core/indexes/base.py\u001b[0m in \u001b[0;36mget_loc\u001b[0;34m(self, key, method, tolerance)\u001b[0m\n\u001b[1;32m   3360\u001b[0m             \u001b[0;32mtry\u001b[0m\u001b[0;34m:\u001b[0m\u001b[0;34m\u001b[0m\u001b[0;34m\u001b[0m\u001b[0m\n\u001b[0;32m-> 3361\u001b[0;31m                 \u001b[0;32mreturn\u001b[0m \u001b[0mself\u001b[0m\u001b[0;34m.\u001b[0m\u001b[0m_engine\u001b[0m\u001b[0;34m.\u001b[0m\u001b[0mget_loc\u001b[0m\u001b[0;34m(\u001b[0m\u001b[0mcasted_key\u001b[0m\u001b[0;34m)\u001b[0m\u001b[0;34m\u001b[0m\u001b[0;34m\u001b[0m\u001b[0m\n\u001b[0m\u001b[1;32m   3362\u001b[0m             \u001b[0;32mexcept\u001b[0m \u001b[0mKeyError\u001b[0m \u001b[0;32mas\u001b[0m \u001b[0merr\u001b[0m\u001b[0;34m:\u001b[0m\u001b[0;34m\u001b[0m\u001b[0;34m\u001b[0m\u001b[0m\n",
            "\u001b[0;32m/usr/local/lib/python3.7/dist-packages/pandas/_libs/index.pyx\u001b[0m in \u001b[0;36mpandas._libs.index.IndexEngine.get_loc\u001b[0;34m()\u001b[0m\n",
            "\u001b[0;32m/usr/local/lib/python3.7/dist-packages/pandas/_libs/index.pyx\u001b[0m in \u001b[0;36mpandas._libs.index.IndexEngine.get_loc\u001b[0;34m()\u001b[0m\n",
            "\u001b[0;32mpandas/_libs/hashtable_class_helper.pxi\u001b[0m in \u001b[0;36mpandas._libs.hashtable.PyObjectHashTable.get_item\u001b[0;34m()\u001b[0m\n",
            "\u001b[0;32mpandas/_libs/hashtable_class_helper.pxi\u001b[0m in \u001b[0;36mpandas._libs.hashtable.PyObjectHashTable.get_item\u001b[0;34m()\u001b[0m\n",
            "\u001b[0;31mKeyError\u001b[0m: 'B'",
            "\nThe above exception was the direct cause of the following exception:\n",
            "\u001b[0;31mKeyError\u001b[0m                                  Traceback (most recent call last)",
            "\u001b[0;32m<ipython-input-12-03cf80281702>\u001b[0m in \u001b[0;36m<module>\u001b[0;34m\u001b[0m\n\u001b[0;32m----> 1\u001b[0;31m \u001b[0mmean\u001b[0m \u001b[0;34m=\u001b[0m \u001b[0mdf\u001b[0m\u001b[0;34m.\u001b[0m\u001b[0mloc\u001b[0m\u001b[0;34m[\u001b[0m\u001b[0mdf\u001b[0m\u001b[0;34m[\u001b[0m\u001b[0;34m'B'\u001b[0m\u001b[0;34m]\u001b[0m\u001b[0;34m.\u001b[0m\u001b[0meq\u001b[0m\u001b[0;34m(\u001b[0m\u001b[0;36m1\u001b[0m\u001b[0;34m)\u001b[0m\u001b[0;34m,\u001b[0m \u001b[0;34m'A'\u001b[0m\u001b[0;34m]\u001b[0m\u001b[0;34m.\u001b[0m\u001b[0mmean\u001b[0m\u001b[0;34m(\u001b[0m\u001b[0;34m)\u001b[0m\u001b[0;34m\u001b[0m\u001b[0;34m\u001b[0m\u001b[0m\n\u001b[0m\u001b[1;32m      2\u001b[0m \u001b[0mprint\u001b[0m \u001b[0;34m(\u001b[0m\u001b[0mmean\u001b[0m\u001b[0;34m)\u001b[0m\u001b[0;34m\u001b[0m\u001b[0;34m\u001b[0m\u001b[0m\n\u001b[1;32m      3\u001b[0m \u001b[0;36m54.0\u001b[0m\u001b[0;34m\u001b[0m\u001b[0;34m\u001b[0m\u001b[0m\n\u001b[1;32m      4\u001b[0m \u001b[0;34m\u001b[0m\u001b[0m\n\u001b[1;32m      5\u001b[0m \u001b[0mmask\u001b[0m \u001b[0;34m=\u001b[0m \u001b[0mdf\u001b[0m\u001b[0;34m[\u001b[0m\u001b[0;34m'A'\u001b[0m\u001b[0;34m]\u001b[0m\u001b[0;34m.\u001b[0m\u001b[0mlt\u001b[0m\u001b[0;34m(\u001b[0m\u001b[0mmean\u001b[0m\u001b[0;34m)\u001b[0m \u001b[0;34m&\u001b[0m \u001b[0mdf\u001b[0m\u001b[0;34m[\u001b[0m\u001b[0;34m'B'\u001b[0m\u001b[0;34m]\u001b[0m\u001b[0;34m.\u001b[0m\u001b[0meq\u001b[0m\u001b[0;34m(\u001b[0m\u001b[0;34m-\u001b[0m\u001b[0;36m1\u001b[0m\u001b[0;34m)\u001b[0m\u001b[0;34m\u001b[0m\u001b[0;34m\u001b[0m\u001b[0m\n",
            "\u001b[0;32m/usr/local/lib/python3.7/dist-packages/pandas/core/frame.py\u001b[0m in \u001b[0;36m__getitem__\u001b[0;34m(self, key)\u001b[0m\n\u001b[1;32m   3456\u001b[0m             \u001b[0;32mif\u001b[0m \u001b[0mself\u001b[0m\u001b[0;34m.\u001b[0m\u001b[0mcolumns\u001b[0m\u001b[0;34m.\u001b[0m\u001b[0mnlevels\u001b[0m \u001b[0;34m>\u001b[0m \u001b[0;36m1\u001b[0m\u001b[0;34m:\u001b[0m\u001b[0;34m\u001b[0m\u001b[0;34m\u001b[0m\u001b[0m\n\u001b[1;32m   3457\u001b[0m                 \u001b[0;32mreturn\u001b[0m \u001b[0mself\u001b[0m\u001b[0;34m.\u001b[0m\u001b[0m_getitem_multilevel\u001b[0m\u001b[0;34m(\u001b[0m\u001b[0mkey\u001b[0m\u001b[0;34m)\u001b[0m\u001b[0;34m\u001b[0m\u001b[0;34m\u001b[0m\u001b[0m\n\u001b[0;32m-> 3458\u001b[0;31m             \u001b[0mindexer\u001b[0m \u001b[0;34m=\u001b[0m \u001b[0mself\u001b[0m\u001b[0;34m.\u001b[0m\u001b[0mcolumns\u001b[0m\u001b[0;34m.\u001b[0m\u001b[0mget_loc\u001b[0m\u001b[0;34m(\u001b[0m\u001b[0mkey\u001b[0m\u001b[0;34m)\u001b[0m\u001b[0;34m\u001b[0m\u001b[0;34m\u001b[0m\u001b[0m\n\u001b[0m\u001b[1;32m   3459\u001b[0m             \u001b[0;32mif\u001b[0m \u001b[0mis_integer\u001b[0m\u001b[0;34m(\u001b[0m\u001b[0mindexer\u001b[0m\u001b[0;34m)\u001b[0m\u001b[0;34m:\u001b[0m\u001b[0;34m\u001b[0m\u001b[0;34m\u001b[0m\u001b[0m\n\u001b[1;32m   3460\u001b[0m                 \u001b[0mindexer\u001b[0m \u001b[0;34m=\u001b[0m \u001b[0;34m[\u001b[0m\u001b[0mindexer\u001b[0m\u001b[0;34m]\u001b[0m\u001b[0;34m\u001b[0m\u001b[0;34m\u001b[0m\u001b[0m\n",
            "\u001b[0;32m/usr/local/lib/python3.7/dist-packages/pandas/core/indexes/base.py\u001b[0m in \u001b[0;36mget_loc\u001b[0;34m(self, key, method, tolerance)\u001b[0m\n\u001b[1;32m   3361\u001b[0m                 \u001b[0;32mreturn\u001b[0m \u001b[0mself\u001b[0m\u001b[0;34m.\u001b[0m\u001b[0m_engine\u001b[0m\u001b[0;34m.\u001b[0m\u001b[0mget_loc\u001b[0m\u001b[0;34m(\u001b[0m\u001b[0mcasted_key\u001b[0m\u001b[0;34m)\u001b[0m\u001b[0;34m\u001b[0m\u001b[0;34m\u001b[0m\u001b[0m\n\u001b[1;32m   3362\u001b[0m             \u001b[0;32mexcept\u001b[0m \u001b[0mKeyError\u001b[0m \u001b[0;32mas\u001b[0m \u001b[0merr\u001b[0m\u001b[0;34m:\u001b[0m\u001b[0;34m\u001b[0m\u001b[0;34m\u001b[0m\u001b[0m\n\u001b[0;32m-> 3363\u001b[0;31m                 \u001b[0;32mraise\u001b[0m \u001b[0mKeyError\u001b[0m\u001b[0;34m(\u001b[0m\u001b[0mkey\u001b[0m\u001b[0;34m)\u001b[0m \u001b[0;32mfrom\u001b[0m \u001b[0merr\u001b[0m\u001b[0;34m\u001b[0m\u001b[0;34m\u001b[0m\u001b[0m\n\u001b[0m\u001b[1;32m   3364\u001b[0m \u001b[0;34m\u001b[0m\u001b[0m\n\u001b[1;32m   3365\u001b[0m         \u001b[0;32mif\u001b[0m \u001b[0mis_scalar\u001b[0m\u001b[0;34m(\u001b[0m\u001b[0mkey\u001b[0m\u001b[0;34m)\u001b[0m \u001b[0;32mand\u001b[0m \u001b[0misna\u001b[0m\u001b[0;34m(\u001b[0m\u001b[0mkey\u001b[0m\u001b[0;34m)\u001b[0m \u001b[0;32mand\u001b[0m \u001b[0;32mnot\u001b[0m \u001b[0mself\u001b[0m\u001b[0;34m.\u001b[0m\u001b[0mhasnans\u001b[0m\u001b[0;34m:\u001b[0m\u001b[0;34m\u001b[0m\u001b[0;34m\u001b[0m\u001b[0m\n",
            "\u001b[0;31mKeyError\u001b[0m: 'B'"
          ]
        }
      ]
    },
    {
      "cell_type": "code",
      "source": [
        "from sklearn.linear_model import LogisticRegression\n",
        "from sklearn.preprocessing import StandardScaler\n",
        "from sklearn.model_selection import train_test_split"
      ],
      "metadata": {
        "id": "_R_0ZK2xI5iv"
      },
      "execution_count": 9,
      "outputs": []
    },
    {
      "cell_type": "code",
      "source": [
        "X = df[[ 'Delta T (s)', 'Lunation Number', 'Saros Number', 'Gamma', 'Eclipse Magnitude']]\n",
        "y = df['Eclipse TpBype']\n",
        "X_train, X_test, y_train, y_test = train_test_split(X, y, test_size=0.2, random_state=101)"
      ],
      "metadata": {
        "id": "i5EVOBsLI9Xf"
      },
      "execution_count": 10,
      "outputs": []
    },
    {
      "cell_type": "code",
      "source": [
        "scaler = StandardScaler()\n",
        "\n",
        "scaled_x_train = scaler.fit_transform(X_train)\n",
        "scaled_x_test = scaler.transform(X_test)\n",
        "\n",
        "scaled_x_train\n"
      ],
      "metadata": {
        "id": "tgJXkqFfJnGt",
        "outputId": "dc31edef-9bae-43d2-97a6-bbf6b7848fd2",
        "colab": {
          "base_uri": "https://localhost:8080/"
        }
      },
      "execution_count": 11,
      "outputs": [
        {
          "output_type": "execute_result",
          "data": {
            "text/plain": [
              "array([[ 1.54824492, -1.31836165, -1.39757085,  0.49337861,  0.76069227],\n",
              "       [-0.73119122,  1.4776619 ,  1.69540849, -1.04933418,  0.72287494],\n",
              "       [ 0.57321063, -0.81852197, -0.67587567,  0.44037281,  0.52151422],\n",
              "       ...,\n",
              "       [-0.86497603,  0.58964054,  0.93247359,  1.19542825,  0.12874471],\n",
              "       [ 1.58722858, -1.33604177, -1.4800503 ,  0.6344317 ,  0.6807451 ],\n",
              "       [ 1.46474017, -1.28004544, -1.08827292,  0.46410344,  0.71026916]])"
            ]
          },
          "metadata": {},
          "execution_count": 11
        }
      ]
    },
    {
      "cell_type": "code",
      "source": [
        "log_model = LogisticRegression()\n",
        "\n",
        "# Fit the model :\n",
        "log_model.fit(scaled_x_train,y_train)\n",
        "y_prop = log_model.predict_proba(scaled_x_test)\n",
        "y_prop"
      ],
      "metadata": {
        "id": "8inv3J3TJqe1",
        "outputId": "a7d450bd-8e63-4176-acff-c3ab58fc947d",
        "colab": {
          "base_uri": "https://localhost:8080/"
        }
      },
      "execution_count": 12,
      "outputs": [
        {
          "output_type": "stream",
          "name": "stderr",
          "text": [
            "/usr/local/lib/python3.7/dist-packages/sklearn/linear_model/_logistic.py:818: ConvergenceWarning: lbfgs failed to converge (status=1):\n",
            "STOP: TOTAL NO. of ITERATIONS REACHED LIMIT.\n",
            "\n",
            "Increase the number of iterations (max_iter) or scale the data as shown in:\n",
            "    https://scikit-learn.org/stable/modules/preprocessing.html\n",
            "Please also refer to the documentation for alternative solver options:\n",
            "    https://scikit-learn.org/stable/modules/linear_model.html#logistic-regression\n",
            "  extra_warning_msg=_LOGISTIC_SOLVER_CONVERGENCE_MSG,\n"
          ]
        },
        {
          "output_type": "execute_result",
          "data": {
            "text/plain": [
              "array([[9.05753826e-05, 5.56322109e-03, 6.24478143e-05, ...,\n",
              "        1.72540762e-02, 4.94866436e-01, 2.67915402e-01],\n",
              "       [2.04133781e-04, 1.06200095e-03, 4.19504685e-05, ...,\n",
              "        3.96586488e-03, 1.96779461e-01, 6.41224206e-01],\n",
              "       [2.01247119e-11, 6.39176751e-08, 2.19957961e-10, ...,\n",
              "        9.98430832e-01, 1.31579085e-03, 1.17663762e-18],\n",
              "       ...,\n",
              "       [2.81319748e-24, 6.50857870e-20, 3.68452196e-21, ...,\n",
              "        4.10848648e-01, 6.02513855e-11, 1.55352665e-49],\n",
              "       [1.16543092e-13, 8.82605511e-18, 6.73742288e-11, ...,\n",
              "        9.79070894e-01, 4.39738834e-07, 5.09010770e-34],\n",
              "       [3.13637763e-14, 5.56559723e-18, 5.54839127e-11, ...,\n",
              "        9.80662005e-01, 2.67336982e-07, 6.49218329e-35]])"
            ]
          },
          "metadata": {},
          "execution_count": 12
        }
      ]
    },
    {
      "cell_type": "code",
      "source": [
        "y_pred = log_model.predict(scaled_x_test)\n",
        "y_pred"
      ],
      "metadata": {
        "id": "prgVYdrzKLsv",
        "outputId": "7ee5ae7b-0f9e-41f0-b4bf-fad4949679f6",
        "colab": {
          "base_uri": "https://localhost:8080/"
        }
      },
      "execution_count": 13,
      "outputs": [
        {
          "output_type": "execute_result",
          "data": {
            "text/plain": [
              "array([17, 18, 16, ..., 15, 16, 16])"
            ]
          },
          "metadata": {},
          "execution_count": 13
        }
      ]
    },
    {
      "cell_type": "code",
      "source": [
        "#prediction\n",
        "y_pred = log_model.predict(X_test)#Accuracy\n",
        "from sklearn import metrics\n",
        "print('Accuracy Score:', metrics.accuracy_score(y_test,y_pred))"
      ],
      "metadata": {
        "id": "t1bJx3aIvESY",
        "outputId": "da72fc44-6da2-4c69-914f-f62f42627d51",
        "colab": {
          "base_uri": "https://localhost:8080/"
        }
      },
      "execution_count": 67,
      "outputs": [
        {
          "output_type": "stream",
          "name": "stdout",
          "text": [
            "Accuracy Score: 0.015966386554621848\n"
          ]
        },
        {
          "output_type": "stream",
          "name": "stderr",
          "text": [
            "/usr/local/lib/python3.7/dist-packages/sklearn/base.py:444: UserWarning: X has feature names, but LogisticRegression was fitted without feature names\n",
            "  f\"X has feature names, but {self.__class__.__name__} was fitted without\"\n"
          ]
        }
      ]
    },
    {
      "cell_type": "code",
      "source": [
        "from sklearn.metrics import confusion_matrix\n",
        "cm = confusion_matrix(y_test, y_pred)\n",
        "cm"
      ],
      "metadata": {
        "id": "YxK7xDCkvgza",
        "outputId": "9872e4fd-075b-442d-a597-bd6e5640ba6f",
        "colab": {
          "base_uri": "https://localhost:8080/"
        }
      },
      "execution_count": 69,
      "outputs": [
        {
          "output_type": "execute_result",
          "data": {
            "text/plain": [
              "array([[  0,   0,   0,   0,   0,   0,   0,   0,   0,   0,   0,   0,   0,\n",
              "          0,   0,   1,   0,   0,   0],\n",
              "       [  0,   0,   0,   0,   0,   0,   0,   0,   0,   0,   0,   0,   0,\n",
              "          1,   0,   2,   0,   0,   0],\n",
              "       [  0,   0,   0,   0,   0,   0,   0,   0,   0,   0,   0,   0,   0,\n",
              "          1,   0,   6,   0,   0,   0],\n",
              "       [  0,   0,   0,   0,   0,   0,   0,   0,   0,   0,   0,   0,   0,\n",
              "          0,   0,   5,   0,   0,   0],\n",
              "       [  0,   0,   0,   0,   0,   0,   0,   0,   0,   0,   0,   0,   0,\n",
              "          0,   0,   7,   0,   0,   0],\n",
              "       [  0,   0,   0,   0,   0,   0,   0,   0,   0,   0,   0,   0,   0,\n",
              "          0,   0,   4,   0,   0,   0],\n",
              "       [  1,   0,   0,   0,   0,   0,   0,   0,   0,   0,   0,   0,   0,\n",
              "          3,   0,  12,   0,   0,   0],\n",
              "       [  0,   0,   0,   0,   0,   0,   0,   0,   0,   0,   0,   0,   0,\n",
              "          3,   0,   7,   0,   0,   0],\n",
              "       [  0,   0,   0,   0,   0,   0,   0,   0,   0,   0,   0,   0,   0,\n",
              "          0,   0,   6,   0,   0,   0],\n",
              "       [  0,   0,   0,   0,   0,   0,   0,   0,   0,   0,   0,   0,   0,\n",
              "          0,   0,   7,   0,   0,   0],\n",
              "       [  0,   0,   0,   0,   0,   0,   0,   0,   0,   0,   0,   0,   0,\n",
              "          0,   0,   2,   0,   0,   0],\n",
              "       [  0,   0,   0,   0,   0,   0,   0,   0,   0,   0,   0,   0,   0,\n",
              "          2,   0,   2,   0,   0,   0],\n",
              "       [  0,   0,   0,   0,   0,   0,   0,   0,   0,   0,   0,   0,   0,\n",
              "          2,   0,   4,   0,   0,   0],\n",
              "       [  0,   0,   0,   0,   0,   0,   0,   0,   0,   0,   0,   0,   0,\n",
              "          9,   0,  20,   0,   0,   0],\n",
              "       [  0,   0,   0,   0,   0,   0,   0,   0,   0,   0,   0,   0,   0,\n",
              "          6,   0,  94,   0,   0,   0],\n",
              "       [  0,   0,   0,   0,   0,   0,   0,   0,   0,   0,   0,   0,   0,\n",
              "          5,   0,  29,   0,   0,   0],\n",
              "       [  0,   0,   0,   0,   0,   0,   0,   0,   0,   0,   0,   0,   0,\n",
              "        148,   0, 636,   0,   0,   0],\n",
              "       [  2,   0,   0,   0,   0,   0,   0,   0,   0,   0,   0,   0,   0,\n",
              "        153,   0, 582,   0,   0,   0],\n",
              "       [  3,   0,   0,   0,   0,   0,   0,   0,   0,   0,   0,   0,   0,\n",
              "        116,   0, 499,   0,   0,   0]])"
            ]
          },
          "metadata": {},
          "execution_count": 69
        }
      ]
    },
    {
      "cell_type": "markdown",
      "source": [
        "# TREE "
      ],
      "metadata": {
        "id": "7pSJPHuZzzHM"
      }
    },
    {
      "cell_type": "code",
      "source": [
        "from sklearn.tree import DecisionTreeClassifier\n",
        "from sklearn.tree import plot_tree\n",
        "import matplotlib.pyplot as plt"
      ],
      "metadata": {
        "id": "93101qF-M-8p"
      },
      "execution_count": 14,
      "outputs": []
    },
    {
      "cell_type": "code",
      "source": [
        "dt = DecisionTreeClassifier(max_depth = 3)\n",
        "\n",
        "dt.fit(X_train, y_train)"
      ],
      "metadata": {
        "id": "MfdAVb4zNCin",
        "outputId": "aeff4a74-73ef-4c68-8a45-d8df4354bc9c",
        "colab": {
          "base_uri": "https://localhost:8080/"
        }
      },
      "execution_count": 15,
      "outputs": [
        {
          "output_type": "execute_result",
          "data": {
            "text/plain": [
              "DecisionTreeClassifier(max_depth=3)"
            ]
          },
          "metadata": {},
          "execution_count": 15
        }
      ]
    },
    {
      "cell_type": "code",
      "source": [
        "import numpy as np\n",
        "from matplotlib import pyplot as plt\n",
        "\n",
        "from sklearn.model_selection import train_test_split\n",
        "from sklearn.datasets import load_iris\n",
        "from sklearn.tree import DecisionTreeClassifier\n",
        "from sklearn import tree"
      ],
      "metadata": {
        "id": "xg5SMkOUy4Gc"
      },
      "execution_count": 78,
      "outputs": []
    },
    {
      "cell_type": "code",
      "source": [
        "plt.figure(figsize=(27,14))\n",
        "tree.plot_tree(dt)\n",
        "tree.filled=True\n",
        "plt.show()"
      ],
      "metadata": {
        "id": "DSp3H5SpzJUK",
        "outputId": "4de9aced-ff61-44ca-aa40-e76b62d6d81f",
        "colab": {
          "base_uri": "https://localhost:8080/",
          "height": 671
        }
      },
      "execution_count": 83,
      "outputs": [
        {
          "output_type": "display_data",
          "data": {
            "text/plain": [
              "<Figure size 1944x1008 with 1 Axes>"
            ],
            "image/png": "[encoded data removed]"
          },
          "metadata": {
            "needs_background": "light"
          }
        }
      ]
    }
  ]
}