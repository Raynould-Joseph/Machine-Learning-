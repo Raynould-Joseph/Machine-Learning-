{
  "nbformat": 4,
  "nbformat_minor": 0,
  "metadata": {
    "colab": {
      "name": "Lab4",
      "provenance": [],
      "collapsed_sections": [],
      "authorship_tag": "ABX9TyN1Zxz5MO8EMvrTu6cwrUgs",
      "include_colab_link": true
    },
    "kernelspec": {
      "name": "python3",
      "display_name": "Python 3"
    },
    "language_info": {
      "name": "python"
    }
  },
  "cells": [
    {
      "cell_type": "markdown",
      "metadata": {
        "id": "view-in-github",
        "colab_type": "text"
      },
      "source": [
        "<a href=\"https://colab.research.google.com/github/Raynould-Joseph/Machine-Learning-/blob/main/Lab4.ipynb\" target=\"_parent\"><img src=\"https://colab.research.google.com/assets/colab-badge.svg\" alt=\"Open In Colab\"/></a>"
      ]
    },
    {
      "cell_type": "code",
      "execution_count": 3,
      "metadata": {
        "colab": {
          "base_uri": "https://localhost:8080/"
        },
        "id": "RVwKyc4orNNk",
        "outputId": "b3f313f5-c62a-4fbe-f2ba-8f0c01c1aeab"
      },
      "outputs": [
        {
          "output_type": "stream",
          "name": "stdout",
          "text": [
            "Mounted at /content/drive\n"
          ]
        }
      ],
      "source": [
        "from google.colab import drive\n",
        "drive.mount('/content/drive',force_remount=True)"
      ]
    },
    {
      "cell_type": "code",
      "source": [
        "from google.colab import drive\n",
        "drive.mount('/content/gdrive')"
      ],
      "metadata": {
        "colab": {
          "base_uri": "https://localhost:8080/"
        },
        "id": "Vt9vFLYjt1ag",
        "outputId": "8bab6a28-52c8-44b0-fe21-b6873f5c910c"
      },
      "execution_count": 1,
      "outputs": [
        {
          "output_type": "stream",
          "name": "stdout",
          "text": [
            "Drive already mounted at /content/gdrive; to attempt to forcibly remount, call drive.mount(\"/content/gdrive\", force_remount=True).\n"
          ]
        }
      ]
    },
    {
      "cell_type": "code",
      "source": [
        "%cd /content/drive/MyDrive/ML LAB/MeteoriteLandings/meteorite-landings/"
      ],
      "metadata": {
        "colab": {
          "base_uri": "https://localhost:8080/"
        },
        "id": "H5Czpt-srZLU",
        "outputId": "020bfbe3-48cd-4eaa-d1c0-a31e9c570dc6"
      },
      "execution_count": 1,
      "outputs": [
        {
          "output_type": "stream",
          "name": "stdout",
          "text": [
            "[Errno 2] No such file or directory: '/content/drive/MyDrive/ML LAB/MeteoriteLandings/meteorite-landings/'\n",
            "/content\n"
          ]
        }
      ]
    },
    {
      "cell_type": "code",
      "source": [
        "import numpy as np \n",
        "import pandas as pd \n",
        "import matplotlib.pyplot as plt \n",
        "import seaborn as sns\n",
        "\n",
        "import plotly as py\n",
        "import plotly.graph_objs as go\n",
        "\n",
        "from sklearn.cluster import KMeans\n",
        "\n",
        "import warnings\n",
        "warnings.filterwarnings('ignore')"
      ],
      "metadata": {
        "id": "e21NAasStNAV"
      },
      "execution_count": 2,
      "outputs": []
    },
    {
      "cell_type": "code",
      "source": [
        "df = pd.read_csv('/content/gdrive/MyDrive/ML Lab/catalog123.csv')"
      ],
      "metadata": {
        "id": "Fd-t2ODE9zgG"
      },
      "execution_count": 3,
      "outputs": []
    },
    {
      "cell_type": "code",
      "source": [
        "df.head()\n"
      ],
      "metadata": {
        "colab": {
          "base_uri": "https://localhost:8080/",
          "height": 392
        },
        "id": "6GlCBgATs7AD",
        "outputId": "56e9a3c8-264a-48ac-8403-4803ca5a1f4d"
      },
      "execution_count": 4,
      "outputs": [
        {
          "output_type": "execute_result",
          "data": {
            "text/plain": [
              "   id       date continent_code   country_name country_code state/province  \\\n",
              "0  34   3/2/2007            NaN  United States           US       Virginia   \n",
              "1  42  3/22/2007            NaN  United States           US           Ohio   \n",
              "2  56   4/6/2007            NaN  United States           US   Pennsylvania   \n",
              "3  59  4/14/2007            NaN         Canada           CA         Quebec   \n",
              "4  61  4/15/2007            NaN  United States           US       Kentucky   \n",
              "\n",
              "   population         city/town  distance  latitude  longitude  \\\n",
              "0       16000       Cherry Hill   3.40765   38.6009   -77.2682   \n",
              "1       17288  New Philadelphia   3.33522   40.5175   -81.4305   \n",
              "2       15930       Wilkinsburg   2.91977   40.4377   -79.9160   \n",
              "3       42786       Châteauguay   2.98682   45.3226   -73.7771   \n",
              "4        6903         Pikeville   5.66542   37.4325   -82.4931   \n",
              "\n",
              "                                 geolocation hazard_type      landslide_type  \\\n",
              "0  (38.600900000000003, -77.268199999999993)   Landslide           Landslide   \n",
              "1  (40.517499999999998, -81.430499999999995)   Landslide           Landslide   \n",
              "2             (40.4377, -79.915999999999997)   Landslide           Landslide   \n",
              "3  (45.322600000000001, -73.777100000000004)   Landslide  Riverbank collapse   \n",
              "4  (37.432499999999997, -82.493099999999998)   Landslide           Landslide   \n",
              "\n",
              "  landslide_size   trigger  fatalities                 source_name  \\\n",
              "0          Small      Rain         NaN                  NBC 4 news   \n",
              "1          Small      Rain         NaN              Canton Rep.com   \n",
              "2          Small      Rain         NaN  The Pittsburgh Channel.com   \n",
              "3          Small      Rain         NaN                   Le Soleil   \n",
              "4          Small  Downpour         0.0      Matthew Crawford (KGS)   \n",
              "\n",
              "                                         source_link  \n",
              "0      http://www.nbc4.com/news/11186871/detail.html  \n",
              "1  http://www.cantonrep.com/index.php?ID=345054&C...  \n",
              "2  https://web.archive.org/web/20080423132842/htt...  \n",
              "3  http://www.hebdos.net/lsc/edition162007/articl...  \n",
              "4                                                NaN  "
            ],
            "text/html": [
              "\n",
              "  <div id=\"df-9e1b30a7-5ae1-4bfa-803c-03ff19a601df\">\n",
              "    <div class=\"colab-df-container\">\n",
              "      <div>\n",
              "<style scoped>\n",
              "    .dataframe tbody tr th:only-of-type {\n",
              "        vertical-align: middle;\n",
              "    }\n",
              "\n",
              "    .dataframe tbody tr th {\n",
              "        vertical-align: top;\n",
              "    }\n",
              "\n",
              "    .dataframe thead th {\n",
              "        text-align: right;\n",
              "    }\n",
              "</style>\n",
              "<table border=\"1\" class=\"dataframe\">\n",
              "  <thead>\n",
              "    <tr style=\"text-align: right;\">\n",
              "      <th></th>\n",
              "      <th>id</th>\n",
              "      <th>date</th>\n",
              "      <th>continent_code</th>\n",
              "      <th>country_name</th>\n",
              "      <th>country_code</th>\n",
              "      <th>state/province</th>\n",
              "      <th>population</th>\n",
              "      <th>city/town</th>\n",
              "      <th>distance</th>\n",
              "      <th>latitude</th>\n",
              "      <th>longitude</th>\n",
              "      <th>geolocation</th>\n",
              "      <th>hazard_type</th>\n",
              "      <th>landslide_type</th>\n",
              "      <th>landslide_size</th>\n",
              "      <th>trigger</th>\n",
              "      <th>fatalities</th>\n",
              "      <th>source_name</th>\n",
              "      <th>source_link</th>\n",
              "    </tr>\n",
              "  </thead>\n",
              "  <tbody>\n",
              "    <tr>\n",
              "      <th>0</th>\n",
              "      <td>34</td>\n",
              "      <td>3/2/2007</td>\n",
              "      <td>NaN</td>\n",
              "      <td>United States</td>\n",
              "      <td>US</td>\n",
              "      <td>Virginia</td>\n",
              "      <td>16000</td>\n",
              "      <td>Cherry Hill</td>\n",
              "      <td>3.40765</td>\n",
              "      <td>38.6009</td>\n",
              "      <td>-77.2682</td>\n",
              "      <td>(38.600900000000003, -77.268199999999993)</td>\n",
              "      <td>Landslide</td>\n",
              "      <td>Landslide</td>\n",
              "      <td>Small</td>\n",
              "      <td>Rain</td>\n",
              "      <td>NaN</td>\n",
              "      <td>NBC 4 news</td>\n",
              "      <td>http://www.nbc4.com/news/11186871/detail.html</td>\n",
              "    </tr>\n",
              "    <tr>\n",
              "      <th>1</th>\n",
              "      <td>42</td>\n",
              "      <td>3/22/2007</td>\n",
              "      <td>NaN</td>\n",
              "      <td>United States</td>\n",
              "      <td>US</td>\n",
              "      <td>Ohio</td>\n",
              "      <td>17288</td>\n",
              "      <td>New Philadelphia</td>\n",
              "      <td>3.33522</td>\n",
              "      <td>40.5175</td>\n",
              "      <td>-81.4305</td>\n",
              "      <td>(40.517499999999998, -81.430499999999995)</td>\n",
              "      <td>Landslide</td>\n",
              "      <td>Landslide</td>\n",
              "      <td>Small</td>\n",
              "      <td>Rain</td>\n",
              "      <td>NaN</td>\n",
              "      <td>Canton Rep.com</td>\n",
              "      <td>http://www.cantonrep.com/index.php?ID=345054&amp;C...</td>\n",
              "    </tr>\n",
              "    <tr>\n",
              "      <th>2</th>\n",
              "      <td>56</td>\n",
              "      <td>4/6/2007</td>\n",
              "      <td>NaN</td>\n",
              "      <td>United States</td>\n",
              "      <td>US</td>\n",
              "      <td>Pennsylvania</td>\n",
              "      <td>15930</td>\n",
              "      <td>Wilkinsburg</td>\n",
              "      <td>2.91977</td>\n",
              "      <td>40.4377</td>\n",
              "      <td>-79.9160</td>\n",
              "      <td>(40.4377, -79.915999999999997)</td>\n",
              "      <td>Landslide</td>\n",
              "      <td>Landslide</td>\n",
              "      <td>Small</td>\n",
              "      <td>Rain</td>\n",
              "      <td>NaN</td>\n",
              "      <td>The Pittsburgh Channel.com</td>\n",
              "      <td>https://web.archive.org/web/20080423132842/htt...</td>\n",
              "    </tr>\n",
              "    <tr>\n",
              "      <th>3</th>\n",
              "      <td>59</td>\n",
              "      <td>4/14/2007</td>\n",
              "      <td>NaN</td>\n",
              "      <td>Canada</td>\n",
              "      <td>CA</td>\n",
              "      <td>Quebec</td>\n",
              "      <td>42786</td>\n",
              "      <td>Châteauguay</td>\n",
              "      <td>2.98682</td>\n",
              "      <td>45.3226</td>\n",
              "      <td>-73.7771</td>\n",
              "      <td>(45.322600000000001, -73.777100000000004)</td>\n",
              "      <td>Landslide</td>\n",
              "      <td>Riverbank collapse</td>\n",
              "      <td>Small</td>\n",
              "      <td>Rain</td>\n",
              "      <td>NaN</td>\n",
              "      <td>Le Soleil</td>\n",
              "      <td>http://www.hebdos.net/lsc/edition162007/articl...</td>\n",
              "    </tr>\n",
              "    <tr>\n",
              "      <th>4</th>\n",
              "      <td>61</td>\n",
              "      <td>4/15/2007</td>\n",
              "      <td>NaN</td>\n",
              "      <td>United States</td>\n",
              "      <td>US</td>\n",
              "      <td>Kentucky</td>\n",
              "      <td>6903</td>\n",
              "      <td>Pikeville</td>\n",
              "      <td>5.66542</td>\n",
              "      <td>37.4325</td>\n",
              "      <td>-82.4931</td>\n",
              "      <td>(37.432499999999997, -82.493099999999998)</td>\n",
              "      <td>Landslide</td>\n",
              "      <td>Landslide</td>\n",
              "      <td>Small</td>\n",
              "      <td>Downpour</td>\n",
              "      <td>0.0</td>\n",
              "      <td>Matthew Crawford (KGS)</td>\n",
              "      <td>NaN</td>\n",
              "    </tr>\n",
              "  </tbody>\n",
              "</table>\n",
              "</div>\n",
              "      <button class=\"colab-df-convert\" onclick=\"convertToInteractive('df-9e1b30a7-5ae1-4bfa-803c-03ff19a601df')\"\n",
              "              title=\"Convert this dataframe to an interactive table.\"\n",
              "              style=\"display:none;\">\n",
              "        \n",
              "  <svg xmlns=\"http://www.w3.org/2000/svg\" height=\"24px\"viewBox=\"0 0 24 24\"\n",
              "       width=\"24px\">\n",
              "    <path d=\"M0 0h24v24H0V0z\" fill=\"none\"/>\n",
              "    <path d=\"M18.56 5.44l.94 2.06.94-2.06 2.06-.94-2.06-.94-.94-2.06-.94 2.06-2.06.94zm-11 1L8.5 8.5l.94-2.06 2.06-.94-2.06-.94L8.5 2.5l-.94 2.06-2.06.94zm10 10l.94 2.06.94-2.06 2.06-.94-2.06-.94-.94-2.06-.94 2.06-2.06.94z\"/><path d=\"M17.41 7.96l-1.37-1.37c-.4-.4-.92-.59-1.43-.59-.52 0-1.04.2-1.43.59L10.3 9.45l-7.72 7.72c-.78.78-.78 2.05 0 2.83L4 21.41c.39.39.9.59 1.41.59.51 0 1.02-.2 1.41-.59l7.78-7.78 2.81-2.81c.8-.78.8-2.07 0-2.86zM5.41 20L4 18.59l7.72-7.72 1.47 1.35L5.41 20z\"/>\n",
              "  </svg>\n",
              "      </button>\n",
              "      \n",
              "  <style>\n",
              "    .colab-df-container {\n",
              "      display:flex;\n",
              "      flex-wrap:wrap;\n",
              "      gap: 12px;\n",
              "    }\n",
              "\n",
              "    .colab-df-convert {\n",
              "      background-color: #E8F0FE;\n",
              "      border: none;\n",
              "      border-radius: 50%;\n",
              "      cursor: pointer;\n",
              "      display: none;\n",
              "      fill: #1967D2;\n",
              "      height: 32px;\n",
              "      padding: 0 0 0 0;\n",
              "      width: 32px;\n",
              "    }\n",
              "\n",
              "    .colab-df-convert:hover {\n",
              "      background-color: #E2EBFA;\n",
              "      box-shadow: 0px 1px 2px rgba(60, 64, 67, 0.3), 0px 1px 3px 1px rgba(60, 64, 67, 0.15);\n",
              "      fill: #174EA6;\n",
              "    }\n",
              "\n",
              "    [theme=dark] .colab-df-convert {\n",
              "      background-color: #3B4455;\n",
              "      fill: #D2E3FC;\n",
              "    }\n",
              "\n",
              "    [theme=dark] .colab-df-convert:hover {\n",
              "      background-color: #434B5C;\n",
              "      box-shadow: 0px 1px 3px 1px rgba(0, 0, 0, 0.15);\n",
              "      filter: drop-shadow(0px 1px 2px rgba(0, 0, 0, 0.3));\n",
              "      fill: #FFFFFF;\n",
              "    }\n",
              "  </style>\n",
              "\n",
              "      <script>\n",
              "        const buttonEl =\n",
              "          document.querySelector('#df-9e1b30a7-5ae1-4bfa-803c-03ff19a601df button.colab-df-convert');\n",
              "        buttonEl.style.display =\n",
              "          google.colab.kernel.accessAllowed ? 'block' : 'none';\n",
              "\n",
              "        async function convertToInteractive(key) {\n",
              "          const element = document.querySelector('#df-9e1b30a7-5ae1-4bfa-803c-03ff19a601df');\n",
              "          const dataTable =\n",
              "            await google.colab.kernel.invokeFunction('convertToInteractive',\n",
              "                                                     [key], {});\n",
              "          if (!dataTable) return;\n",
              "\n",
              "          const docLinkHtml = 'Like what you see? Visit the ' +\n",
              "            '<a target=\"_blank\" href=https://colab.research.google.com/notebooks/data_table.ipynb>data table notebook</a>'\n",
              "            + ' to learn more about interactive tables.';\n",
              "          element.innerHTML = '';\n",
              "          dataTable['output_type'] = 'display_data';\n",
              "          await google.colab.output.renderOutput(dataTable, element);\n",
              "          const docLink = document.createElement('div');\n",
              "          docLink.innerHTML = docLinkHtml;\n",
              "          element.appendChild(docLink);\n",
              "        }\n",
              "      </script>\n",
              "    </div>\n",
              "  </div>\n",
              "  "
            ]
          },
          "metadata": {},
          "execution_count": 4
        }
      ]
    },
    {
      "cell_type": "code",
      "source": [
        ""
      ],
      "metadata": {
        "id": "yEG73mXi1LBk"
      },
      "execution_count": null,
      "outputs": []
    },
    {
      "cell_type": "code",
      "source": [
        "df.isnull().sum()"
      ],
      "metadata": {
        "colab": {
          "base_uri": "https://localhost:8080/"
        },
        "id": "VJq8EUH8vL3F",
        "outputId": "bf6fe4ae-ac93-4a1c-e29c-34b659af937f"
      },
      "execution_count": 5,
      "outputs": [
        {
          "output_type": "execute_result",
          "data": {
            "text/plain": [
              "id                   0\n",
              "date                 3\n",
              "continent_code    1529\n",
              "country_name         0\n",
              "country_code         0\n",
              "state/province       1\n",
              "population           0\n",
              "city/town            4\n",
              "distance             1\n",
              "latitude             1\n",
              "longitude            1\n",
              "geolocation          1\n",
              "hazard_type          0\n",
              "landslide_type       1\n",
              "landslide_size       1\n",
              "trigger              2\n",
              "fatalities         247\n",
              "source_name        821\n",
              "source_link        100\n",
              "dtype: int64"
            ]
          },
          "metadata": {},
          "execution_count": 5
        }
      ]
    },
    {
      "cell_type": "code",
      "source": [
        "df=df.fillna(df.mean())"
      ],
      "metadata": {
        "id": "B5Ip5Jb3vQm9"
      },
      "execution_count": 6,
      "outputs": []
    },
    {
      "cell_type": "code",
      "source": [
        "df.isnull().sum()"
      ],
      "metadata": {
        "colab": {
          "base_uri": "https://localhost:8080/"
        },
        "id": "udUvRtn_vVdG",
        "outputId": "95be3c67-3739-4f33-ec0d-9c7256f9c7d6"
      },
      "execution_count": 7,
      "outputs": [
        {
          "output_type": "execute_result",
          "data": {
            "text/plain": [
              "id                   0\n",
              "date                 3\n",
              "continent_code    1529\n",
              "country_name         0\n",
              "country_code         0\n",
              "state/province       1\n",
              "population           0\n",
              "city/town            4\n",
              "distance             0\n",
              "latitude             0\n",
              "longitude            0\n",
              "geolocation          1\n",
              "hazard_type          0\n",
              "landslide_type       1\n",
              "landslide_size       1\n",
              "trigger              2\n",
              "fatalities           0\n",
              "source_name        821\n",
              "source_link        100\n",
              "dtype: int64"
            ]
          },
          "metadata": {},
          "execution_count": 7
        }
      ]
    },
    {
      "cell_type": "code",
      "source": [
        "df=df.dropna()"
      ],
      "metadata": {
        "id": "iwd0UcrdvaH4"
      },
      "execution_count": 8,
      "outputs": []
    },
    {
      "cell_type": "code",
      "source": [
        "df.isnull().sum()"
      ],
      "metadata": {
        "colab": {
          "base_uri": "https://localhost:8080/"
        },
        "id": "lz0jm3rCvduS",
        "outputId": "8035a297-005c-489b-9f75-c210dfd9b18c"
      },
      "execution_count": 9,
      "outputs": [
        {
          "output_type": "execute_result",
          "data": {
            "text/plain": [
              "id                0\n",
              "date              0\n",
              "continent_code    0\n",
              "country_name      0\n",
              "country_code      0\n",
              "state/province    0\n",
              "population        0\n",
              "city/town         0\n",
              "distance          0\n",
              "latitude          0\n",
              "longitude         0\n",
              "geolocation       0\n",
              "hazard_type       0\n",
              "landslide_type    0\n",
              "landslide_size    0\n",
              "trigger           0\n",
              "fatalities        0\n",
              "source_name       0\n",
              "source_link       0\n",
              "dtype: int64"
            ]
          },
          "metadata": {},
          "execution_count": 9
        }
      ]
    },
    {
      "cell_type": "code",
      "source": [
        "df.describe()"
      ],
      "metadata": {
        "colab": {
          "base_uri": "https://localhost:8080/",
          "height": 300
        },
        "id": "jXRuxpVjvhnI",
        "outputId": "df9cb169-48fe-45ea-b714-629d7f98d753"
      },
      "execution_count": 10,
      "outputs": [
        {
          "output_type": "execute_result",
          "data": {
            "text/plain": [
              "                id    population   distance   latitude  longitude  fatalities\n",
              "count    48.000000  4.800000e+01  48.000000  48.000000  48.000000   48.000000\n",
              "mean   4990.708333  1.970611e+05  10.313052   0.935542 -75.849696    5.142433\n",
              "std    2410.282238  3.964134e+05  10.094709   4.248897   5.759310   13.650793\n",
              "min      77.000000  0.000000e+00   0.000030  -9.388400 -79.781100    0.000000\n",
              "25%    3955.750000  5.058500e+03   1.741488  -2.003625 -78.506425    0.000000\n",
              "50%    6089.500000  1.519400e+04   8.126280   0.699350 -76.930600    1.729599\n",
              "75%    6724.500000  1.635592e+05  16.502470   3.087300 -75.405150    5.000000\n",
              "max    7513.000000  1.399814e+06  45.697920  10.474100 -48.890700   92.000000"
            ],
            "text/html": [
              "\n",
              "  <div id=\"df-667a47aa-1842-4f24-87f2-12e3c531b764\">\n",
              "    <div class=\"colab-df-container\">\n",
              "      <div>\n",
              "<style scoped>\n",
              "    .dataframe tbody tr th:only-of-type {\n",
              "        vertical-align: middle;\n",
              "    }\n",
              "\n",
              "    .dataframe tbody tr th {\n",
              "        vertical-align: top;\n",
              "    }\n",
              "\n",
              "    .dataframe thead th {\n",
              "        text-align: right;\n",
              "    }\n",
              "</style>\n",
              "<table border=\"1\" class=\"dataframe\">\n",
              "  <thead>\n",
              "    <tr style=\"text-align: right;\">\n",
              "      <th></th>\n",
              "      <th>id</th>\n",
              "      <th>population</th>\n",
              "      <th>distance</th>\n",
              "      <th>latitude</th>\n",
              "      <th>longitude</th>\n",
              "      <th>fatalities</th>\n",
              "    </tr>\n",
              "  </thead>\n",
              "  <tbody>\n",
              "    <tr>\n",
              "      <th>count</th>\n",
              "      <td>48.000000</td>\n",
              "      <td>4.800000e+01</td>\n",
              "      <td>48.000000</td>\n",
              "      <td>48.000000</td>\n",
              "      <td>48.000000</td>\n",
              "      <td>48.000000</td>\n",
              "    </tr>\n",
              "    <tr>\n",
              "      <th>mean</th>\n",
              "      <td>4990.708333</td>\n",
              "      <td>1.970611e+05</td>\n",
              "      <td>10.313052</td>\n",
              "      <td>0.935542</td>\n",
              "      <td>-75.849696</td>\n",
              "      <td>5.142433</td>\n",
              "    </tr>\n",
              "    <tr>\n",
              "      <th>std</th>\n",
              "      <td>2410.282238</td>\n",
              "      <td>3.964134e+05</td>\n",
              "      <td>10.094709</td>\n",
              "      <td>4.248897</td>\n",
              "      <td>5.759310</td>\n",
              "      <td>13.650793</td>\n",
              "    </tr>\n",
              "    <tr>\n",
              "      <th>min</th>\n",
              "      <td>77.000000</td>\n",
              "      <td>0.000000e+00</td>\n",
              "      <td>0.000030</td>\n",
              "      <td>-9.388400</td>\n",
              "      <td>-79.781100</td>\n",
              "      <td>0.000000</td>\n",
              "    </tr>\n",
              "    <tr>\n",
              "      <th>25%</th>\n",
              "      <td>3955.750000</td>\n",
              "      <td>5.058500e+03</td>\n",
              "      <td>1.741488</td>\n",
              "      <td>-2.003625</td>\n",
              "      <td>-78.506425</td>\n",
              "      <td>0.000000</td>\n",
              "    </tr>\n",
              "    <tr>\n",
              "      <th>50%</th>\n",
              "      <td>6089.500000</td>\n",
              "      <td>1.519400e+04</td>\n",
              "      <td>8.126280</td>\n",
              "      <td>0.699350</td>\n",
              "      <td>-76.930600</td>\n",
              "      <td>1.729599</td>\n",
              "    </tr>\n",
              "    <tr>\n",
              "      <th>75%</th>\n",
              "      <td>6724.500000</td>\n",
              "      <td>1.635592e+05</td>\n",
              "      <td>16.502470</td>\n",
              "      <td>3.087300</td>\n",
              "      <td>-75.405150</td>\n",
              "      <td>5.000000</td>\n",
              "    </tr>\n",
              "    <tr>\n",
              "      <th>max</th>\n",
              "      <td>7513.000000</td>\n",
              "      <td>1.399814e+06</td>\n",
              "      <td>45.697920</td>\n",
              "      <td>10.474100</td>\n",
              "      <td>-48.890700</td>\n",
              "      <td>92.000000</td>\n",
              "    </tr>\n",
              "  </tbody>\n",
              "</table>\n",
              "</div>\n",
              "      <button class=\"colab-df-convert\" onclick=\"convertToInteractive('df-667a47aa-1842-4f24-87f2-12e3c531b764')\"\n",
              "              title=\"Convert this dataframe to an interactive table.\"\n",
              "              style=\"display:none;\">\n",
              "        \n",
              "  <svg xmlns=\"http://www.w3.org/2000/svg\" height=\"24px\"viewBox=\"0 0 24 24\"\n",
              "       width=\"24px\">\n",
              "    <path d=\"M0 0h24v24H0V0z\" fill=\"none\"/>\n",
              "    <path d=\"M18.56 5.44l.94 2.06.94-2.06 2.06-.94-2.06-.94-.94-2.06-.94 2.06-2.06.94zm-11 1L8.5 8.5l.94-2.06 2.06-.94-2.06-.94L8.5 2.5l-.94 2.06-2.06.94zm10 10l.94 2.06.94-2.06 2.06-.94-2.06-.94-.94-2.06-.94 2.06-2.06.94z\"/><path d=\"M17.41 7.96l-1.37-1.37c-.4-.4-.92-.59-1.43-.59-.52 0-1.04.2-1.43.59L10.3 9.45l-7.72 7.72c-.78.78-.78 2.05 0 2.83L4 21.41c.39.39.9.59 1.41.59.51 0 1.02-.2 1.41-.59l7.78-7.78 2.81-2.81c.8-.78.8-2.07 0-2.86zM5.41 20L4 18.59l7.72-7.72 1.47 1.35L5.41 20z\"/>\n",
              "  </svg>\n",
              "      </button>\n",
              "      \n",
              "  <style>\n",
              "    .colab-df-container {\n",
              "      display:flex;\n",
              "      flex-wrap:wrap;\n",
              "      gap: 12px;\n",
              "    }\n",
              "\n",
              "    .colab-df-convert {\n",
              "      background-color: #E8F0FE;\n",
              "      border: none;\n",
              "      border-radius: 50%;\n",
              "      cursor: pointer;\n",
              "      display: none;\n",
              "      fill: #1967D2;\n",
              "      height: 32px;\n",
              "      padding: 0 0 0 0;\n",
              "      width: 32px;\n",
              "    }\n",
              "\n",
              "    .colab-df-convert:hover {\n",
              "      background-color: #E2EBFA;\n",
              "      box-shadow: 0px 1px 2px rgba(60, 64, 67, 0.3), 0px 1px 3px 1px rgba(60, 64, 67, 0.15);\n",
              "      fill: #174EA6;\n",
              "    }\n",
              "\n",
              "    [theme=dark] .colab-df-convert {\n",
              "      background-color: #3B4455;\n",
              "      fill: #D2E3FC;\n",
              "    }\n",
              "\n",
              "    [theme=dark] .colab-df-convert:hover {\n",
              "      background-color: #434B5C;\n",
              "      box-shadow: 0px 1px 3px 1px rgba(0, 0, 0, 0.15);\n",
              "      filter: drop-shadow(0px 1px 2px rgba(0, 0, 0, 0.3));\n",
              "      fill: #FFFFFF;\n",
              "    }\n",
              "  </style>\n",
              "\n",
              "      <script>\n",
              "        const buttonEl =\n",
              "          document.querySelector('#df-667a47aa-1842-4f24-87f2-12e3c531b764 button.colab-df-convert');\n",
              "        buttonEl.style.display =\n",
              "          google.colab.kernel.accessAllowed ? 'block' : 'none';\n",
              "\n",
              "        async function convertToInteractive(key) {\n",
              "          const element = document.querySelector('#df-667a47aa-1842-4f24-87f2-12e3c531b764');\n",
              "          const dataTable =\n",
              "            await google.colab.kernel.invokeFunction('convertToInteractive',\n",
              "                                                     [key], {});\n",
              "          if (!dataTable) return;\n",
              "\n",
              "          const docLinkHtml = 'Like what you see? Visit the ' +\n",
              "            '<a target=\"_blank\" href=https://colab.research.google.com/notebooks/data_table.ipynb>data table notebook</a>'\n",
              "            + ' to learn more about interactive tables.';\n",
              "          element.innerHTML = '';\n",
              "          dataTable['output_type'] = 'display_data';\n",
              "          await google.colab.output.renderOutput(dataTable, element);\n",
              "          const docLink = document.createElement('div');\n",
              "          docLink.innerHTML = docLinkHtml;\n",
              "          element.appendChild(docLink);\n",
              "        }\n",
              "      </script>\n",
              "    </div>\n",
              "  </div>\n",
              "  "
            ]
          },
          "metadata": {},
          "execution_count": 10
        }
      ]
    },
    {
      "cell_type": "code",
      "source": [
        "df['country_name'].unique()"
      ],
      "metadata": {
        "colab": {
          "base_uri": "https://localhost:8080/"
        },
        "id": "lUcEfHmsvn5Q",
        "outputId": "4482228c-a4e5-496a-fcfc-b238f37ce128"
      },
      "execution_count": 11,
      "outputs": [
        {
          "output_type": "execute_result",
          "data": {
            "text/plain": [
              "array(['Colombia', 'Ecuador', 'Brazil', 'Peru'], dtype=object)"
            ]
          },
          "metadata": {},
          "execution_count": 11
        }
      ]
    },
    {
      "cell_type": "code",
      "source": [
        "df.head()"
      ],
      "metadata": {
        "colab": {
          "base_uri": "https://localhost:8080/",
          "height": 357
        },
        "id": "JQ-EM0UJ2QQy",
        "outputId": "5bf81f7f-a623-4144-fef5-0127aacbb624"
      },
      "execution_count": 12,
      "outputs": [
        {
          "output_type": "execute_result",
          "data": {
            "text/plain": [
              "     id        date continent_code country_name country_code  \\\n",
              "7    77   5/21/2007             SA     Colombia           CO   \n",
              "8   105   6/27/2007             SA      Ecuador           EC   \n",
              "9   106   6/27/2007             SA      Ecuador           EC   \n",
              "10  107   6/27/2007             SA      Ecuador           EC   \n",
              "48  307  10/13/2007             SA     Colombia           CO   \n",
              "\n",
              "      state/province  population  city/town  distance  latitude  longitude  \\\n",
              "7          Risaralda      440118    Pereira   0.62022    4.8081   -75.6941   \n",
              "8   Zamora-Chinchipe       15276     Zamora   0.47714   -4.0650   -78.9510   \n",
              "9               Loja      117796       Loja   0.35649   -3.9900   -79.2050   \n",
              "10         Pichincha        5114  Sangolquí  33.94603   -0.3560   -78.1480   \n",
              "48             Cauca        9985     Suárez   8.46579    2.9437   -76.7719   \n",
              "\n",
              "                                    geolocation hazard_type landslide_type  \\\n",
              "7     (4.8080999999999996, -75.694100000000006)   Landslide       Mudslide   \n",
              "8    (-4.0650000000000004, -78.950999999999993)   Landslide      Landslide   \n",
              "9                  (-3.99, -79.204999999999998)   Landslide      Landslide   \n",
              "10  (-0.35599999999999998, -78.147999999999996)   Landslide      Landslide   \n",
              "48    (2.9437000000000002, -76.771900000000002)   Landslide       Mudslide   \n",
              "\n",
              "   landslide_size          trigger  fatalities                source_name  \\\n",
              "7           Large             Rain   13.000000     Reuters - AlertNet.org   \n",
              "8          Medium         Downpour    1.459198  Red Cross - Field reports   \n",
              "9          Medium         Downpour    1.459198  Red Cross - Field reports   \n",
              "10         Medium         Downpour    1.459198  Red Cross - Field reports   \n",
              "48          Large  Continuous rain   24.000000     Reuters - AlertNet.org   \n",
              "\n",
              "                                          source_link  \n",
              "7   http://www.reuters.com/news/video/videoStory?v...  \n",
              "8   https://www-secure.ifrc.org/dmis/prepare/view_...  \n",
              "9   https://www-secure.ifrc.org/dmis/prepare/view_...  \n",
              "10  https://www-secure.ifrc.org/dmis/prepare/view_...  \n",
              "48  http://www.reuters.com/article/newsOne/idUSN13...  "
            ],
            "text/html": [
              "\n",
              "  <div id=\"df-9fbc69ed-28f0-4cee-b880-bc706f112355\">\n",
              "    <div class=\"colab-df-container\">\n",
              "      <div>\n",
              "<style scoped>\n",
              "    .dataframe tbody tr th:only-of-type {\n",
              "        vertical-align: middle;\n",
              "    }\n",
              "\n",
              "    .dataframe tbody tr th {\n",
              "        vertical-align: top;\n",
              "    }\n",
              "\n",
              "    .dataframe thead th {\n",
              "        text-align: right;\n",
              "    }\n",
              "</style>\n",
              "<table border=\"1\" class=\"dataframe\">\n",
              "  <thead>\n",
              "    <tr style=\"text-align: right;\">\n",
              "      <th></th>\n",
              "      <th>id</th>\n",
              "      <th>date</th>\n",
              "      <th>continent_code</th>\n",
              "      <th>country_name</th>\n",
              "      <th>country_code</th>\n",
              "      <th>state/province</th>\n",
              "      <th>population</th>\n",
              "      <th>city/town</th>\n",
              "      <th>distance</th>\n",
              "      <th>latitude</th>\n",
              "      <th>longitude</th>\n",
              "      <th>geolocation</th>\n",
              "      <th>hazard_type</th>\n",
              "      <th>landslide_type</th>\n",
              "      <th>landslide_size</th>\n",
              "      <th>trigger</th>\n",
              "      <th>fatalities</th>\n",
              "      <th>source_name</th>\n",
              "      <th>source_link</th>\n",
              "    </tr>\n",
              "  </thead>\n",
              "  <tbody>\n",
              "    <tr>\n",
              "      <th>7</th>\n",
              "      <td>77</td>\n",
              "      <td>5/21/2007</td>\n",
              "      <td>SA</td>\n",
              "      <td>Colombia</td>\n",
              "      <td>CO</td>\n",
              "      <td>Risaralda</td>\n",
              "      <td>440118</td>\n",
              "      <td>Pereira</td>\n",
              "      <td>0.62022</td>\n",
              "      <td>4.8081</td>\n",
              "      <td>-75.6941</td>\n",
              "      <td>(4.8080999999999996, -75.694100000000006)</td>\n",
              "      <td>Landslide</td>\n",
              "      <td>Mudslide</td>\n",
              "      <td>Large</td>\n",
              "      <td>Rain</td>\n",
              "      <td>13.000000</td>\n",
              "      <td>Reuters - AlertNet.org</td>\n",
              "      <td>http://www.reuters.com/news/video/videoStory?v...</td>\n",
              "    </tr>\n",
              "    <tr>\n",
              "      <th>8</th>\n",
              "      <td>105</td>\n",
              "      <td>6/27/2007</td>\n",
              "      <td>SA</td>\n",
              "      <td>Ecuador</td>\n",
              "      <td>EC</td>\n",
              "      <td>Zamora-Chinchipe</td>\n",
              "      <td>15276</td>\n",
              "      <td>Zamora</td>\n",
              "      <td>0.47714</td>\n",
              "      <td>-4.0650</td>\n",
              "      <td>-78.9510</td>\n",
              "      <td>(-4.0650000000000004, -78.950999999999993)</td>\n",
              "      <td>Landslide</td>\n",
              "      <td>Landslide</td>\n",
              "      <td>Medium</td>\n",
              "      <td>Downpour</td>\n",
              "      <td>1.459198</td>\n",
              "      <td>Red Cross - Field reports</td>\n",
              "      <td>https://www-secure.ifrc.org/dmis/prepare/view_...</td>\n",
              "    </tr>\n",
              "    <tr>\n",
              "      <th>9</th>\n",
              "      <td>106</td>\n",
              "      <td>6/27/2007</td>\n",
              "      <td>SA</td>\n",
              "      <td>Ecuador</td>\n",
              "      <td>EC</td>\n",
              "      <td>Loja</td>\n",
              "      <td>117796</td>\n",
              "      <td>Loja</td>\n",
              "      <td>0.35649</td>\n",
              "      <td>-3.9900</td>\n",
              "      <td>-79.2050</td>\n",
              "      <td>(-3.99, -79.204999999999998)</td>\n",
              "      <td>Landslide</td>\n",
              "      <td>Landslide</td>\n",
              "      <td>Medium</td>\n",
              "      <td>Downpour</td>\n",
              "      <td>1.459198</td>\n",
              "      <td>Red Cross - Field reports</td>\n",
              "      <td>https://www-secure.ifrc.org/dmis/prepare/view_...</td>\n",
              "    </tr>\n",
              "    <tr>\n",
              "      <th>10</th>\n",
              "      <td>107</td>\n",
              "      <td>6/27/2007</td>\n",
              "      <td>SA</td>\n",
              "      <td>Ecuador</td>\n",
              "      <td>EC</td>\n",
              "      <td>Pichincha</td>\n",
              "      <td>5114</td>\n",
              "      <td>Sangolquí</td>\n",
              "      <td>33.94603</td>\n",
              "      <td>-0.3560</td>\n",
              "      <td>-78.1480</td>\n",
              "      <td>(-0.35599999999999998, -78.147999999999996)</td>\n",
              "      <td>Landslide</td>\n",
              "      <td>Landslide</td>\n",
              "      <td>Medium</td>\n",
              "      <td>Downpour</td>\n",
              "      <td>1.459198</td>\n",
              "      <td>Red Cross - Field reports</td>\n",
              "      <td>https://www-secure.ifrc.org/dmis/prepare/view_...</td>\n",
              "    </tr>\n",
              "    <tr>\n",
              "      <th>48</th>\n",
              "      <td>307</td>\n",
              "      <td>10/13/2007</td>\n",
              "      <td>SA</td>\n",
              "      <td>Colombia</td>\n",
              "      <td>CO</td>\n",
              "      <td>Cauca</td>\n",
              "      <td>9985</td>\n",
              "      <td>Suárez</td>\n",
              "      <td>8.46579</td>\n",
              "      <td>2.9437</td>\n",
              "      <td>-76.7719</td>\n",
              "      <td>(2.9437000000000002, -76.771900000000002)</td>\n",
              "      <td>Landslide</td>\n",
              "      <td>Mudslide</td>\n",
              "      <td>Large</td>\n",
              "      <td>Continuous rain</td>\n",
              "      <td>24.000000</td>\n",
              "      <td>Reuters - AlertNet.org</td>\n",
              "      <td>http://www.reuters.com/article/newsOne/idUSN13...</td>\n",
              "    </tr>\n",
              "  </tbody>\n",
              "</table>\n",
              "</div>\n",
              "      <button class=\"colab-df-convert\" onclick=\"convertToInteractive('df-9fbc69ed-28f0-4cee-b880-bc706f112355')\"\n",
              "              title=\"Convert this dataframe to an interactive table.\"\n",
              "              style=\"display:none;\">\n",
              "        \n",
              "  <svg xmlns=\"http://www.w3.org/2000/svg\" height=\"24px\"viewBox=\"0 0 24 24\"\n",
              "       width=\"24px\">\n",
              "    <path d=\"M0 0h24v24H0V0z\" fill=\"none\"/>\n",
              "    <path d=\"M18.56 5.44l.94 2.06.94-2.06 2.06-.94-2.06-.94-.94-2.06-.94 2.06-2.06.94zm-11 1L8.5 8.5l.94-2.06 2.06-.94-2.06-.94L8.5 2.5l-.94 2.06-2.06.94zm10 10l.94 2.06.94-2.06 2.06-.94-2.06-.94-.94-2.06-.94 2.06-2.06.94z\"/><path d=\"M17.41 7.96l-1.37-1.37c-.4-.4-.92-.59-1.43-.59-.52 0-1.04.2-1.43.59L10.3 9.45l-7.72 7.72c-.78.78-.78 2.05 0 2.83L4 21.41c.39.39.9.59 1.41.59.51 0 1.02-.2 1.41-.59l7.78-7.78 2.81-2.81c.8-.78.8-2.07 0-2.86zM5.41 20L4 18.59l7.72-7.72 1.47 1.35L5.41 20z\"/>\n",
              "  </svg>\n",
              "      </button>\n",
              "      \n",
              "  <style>\n",
              "    .colab-df-container {\n",
              "      display:flex;\n",
              "      flex-wrap:wrap;\n",
              "      gap: 12px;\n",
              "    }\n",
              "\n",
              "    .colab-df-convert {\n",
              "      background-color: #E8F0FE;\n",
              "      border: none;\n",
              "      border-radius: 50%;\n",
              "      cursor: pointer;\n",
              "      display: none;\n",
              "      fill: #1967D2;\n",
              "      height: 32px;\n",
              "      padding: 0 0 0 0;\n",
              "      width: 32px;\n",
              "    }\n",
              "\n",
              "    .colab-df-convert:hover {\n",
              "      background-color: #E2EBFA;\n",
              "      box-shadow: 0px 1px 2px rgba(60, 64, 67, 0.3), 0px 1px 3px 1px rgba(60, 64, 67, 0.15);\n",
              "      fill: #174EA6;\n",
              "    }\n",
              "\n",
              "    [theme=dark] .colab-df-convert {\n",
              "      background-color: #3B4455;\n",
              "      fill: #D2E3FC;\n",
              "    }\n",
              "\n",
              "    [theme=dark] .colab-df-convert:hover {\n",
              "      background-color: #434B5C;\n",
              "      box-shadow: 0px 1px 3px 1px rgba(0, 0, 0, 0.15);\n",
              "      filter: drop-shadow(0px 1px 2px rgba(0, 0, 0, 0.3));\n",
              "      fill: #FFFFFF;\n",
              "    }\n",
              "  </style>\n",
              "\n",
              "      <script>\n",
              "        const buttonEl =\n",
              "          document.querySelector('#df-9fbc69ed-28f0-4cee-b880-bc706f112355 button.colab-df-convert');\n",
              "        buttonEl.style.display =\n",
              "          google.colab.kernel.accessAllowed ? 'block' : 'none';\n",
              "\n",
              "        async function convertToInteractive(key) {\n",
              "          const element = document.querySelector('#df-9fbc69ed-28f0-4cee-b880-bc706f112355');\n",
              "          const dataTable =\n",
              "            await google.colab.kernel.invokeFunction('convertToInteractive',\n",
              "                                                     [key], {});\n",
              "          if (!dataTable) return;\n",
              "\n",
              "          const docLinkHtml = 'Like what you see? Visit the ' +\n",
              "            '<a target=\"_blank\" href=https://colab.research.google.com/notebooks/data_table.ipynb>data table notebook</a>'\n",
              "            + ' to learn more about interactive tables.';\n",
              "          element.innerHTML = '';\n",
              "          dataTable['output_type'] = 'display_data';\n",
              "          await google.colab.output.renderOutput(dataTable, element);\n",
              "          const docLink = document.createElement('div');\n",
              "          docLink.innerHTML = docLinkHtml;\n",
              "          element.appendChild(docLink);\n",
              "        }\n",
              "      </script>\n",
              "    </div>\n",
              "  </div>\n",
              "  "
            ]
          },
          "metadata": {},
          "execution_count": 12
        }
      ]
    },
    {
      "cell_type": "code",
      "source": [
        "lis=df.iloc[:,[6,16]].values\n",
        "lis"
      ],
      "metadata": {
        "colab": {
          "base_uri": "https://localhost:8080/"
        },
        "id": "9RVn2QbFx_ez",
        "outputId": "c5e59d1e-eb53-4633-d891-d41b47afa666"
      },
      "execution_count": 13,
      "outputs": [
        {
          "output_type": "execute_result",
          "data": {
            "text/plain": [
              "array([[4.40118000e+05, 1.30000000e+01],\n",
              "       [1.52760000e+04, 1.45919779e+00],\n",
              "       [1.17796000e+05, 1.45919779e+00],\n",
              "       [5.11400000e+03, 1.45919779e+00],\n",
              "       [9.98500000e+03, 2.40000000e+01],\n",
              "       [4.89200000e+03, 1.45919779e+00],\n",
              "       [4.44400000e+03, 5.00000000e+00],\n",
              "       [2.00421000e+05, 3.00000000e+00],\n",
              "       [9.50100000e+03, 4.00000000e+00],\n",
              "       [7.21398000e+05, 0.00000000e+00],\n",
              "       [1.01910000e+04, 4.00000000e+00],\n",
              "       [1.39981400e+06, 5.00000000e+00],\n",
              "       [1.63007000e+05, 3.00000000e+00],\n",
              "       [9.82900000e+03, 5.00000000e+00],\n",
              "       [1.22050000e+04, 1.00000000e+01],\n",
              "       [8.39270000e+04, 6.00000000e+00],\n",
              "       [1.65216000e+05, 1.40000000e+01],\n",
              "       [2.65820000e+04, 0.00000000e+00],\n",
              "       [1.30337000e+05, 6.00000000e+00],\n",
              "       [3.94200000e+03, 5.00000000e+00],\n",
              "       [1.09100000e+03, 5.00000000e+00],\n",
              "       [2.47986000e+05, 2.00000000e+00],\n",
              "       [9.89600000e+03, 1.00000000e+00],\n",
              "       [5.71820000e+05, 2.00000000e+00],\n",
              "       [2.62460000e+04, 6.00000000e+00],\n",
              "       [1.51120000e+04, 0.00000000e+00],\n",
              "       [1.12650000e+04, 0.00000000e+00],\n",
              "       [1.39981400e+06, 2.00000000e+00],\n",
              "       [1.39981400e+06, 0.00000000e+00],\n",
              "       [0.00000000e+00, 1.30000000e+01],\n",
              "       [3.12000000e+03, 6.00000000e+00],\n",
              "       [7.80500000e+04, 0.00000000e+00],\n",
              "       [1.67070000e+04, 2.00000000e+00],\n",
              "       [2.76964000e+05, 0.00000000e+00],\n",
              "       [1.52760000e+04, 3.00000000e+00],\n",
              "       [0.00000000e+00, 0.00000000e+00],\n",
              "       [0.00000000e+00, 0.00000000e+00],\n",
              "       [0.00000000e+00, 0.00000000e+00],\n",
              "       [1.30350000e+04, 0.00000000e+00],\n",
              "       [1.17796000e+05, 0.00000000e+00],\n",
              "       [1.85650000e+04, 0.00000000e+00],\n",
              "       [2.76964000e+05, 0.00000000e+00],\n",
              "       [4.35000000e+03, 0.00000000e+00],\n",
              "       [6.42800000e+03, 9.20000000e+01],\n",
              "       [1.97200000e+03, 0.00000000e+00],\n",
              "       [8.04400000e+03, 0.00000000e+00],\n",
              "       [1.39981400e+06, 0.00000000e+00],\n",
              "       [4.81100000e+03, 0.00000000e+00]])"
            ]
          },
          "metadata": {},
          "execution_count": 13
        }
      ]
    },
    {
      "cell_type": "code",
      "source": [
        "plt.figure(1 , figsize = (15 , 7))\n",
        "plt.title('Co vs airquality of city', fontsize = 20)\n",
        "plt.xlabel('fatalities')\n",
        "plt.ylabel('country')\n",
        "plt.scatter( x = 'fatalities', y = 'country_name', data = df, s =20)\n",
        "plt.show()"
      ],
      "metadata": {
        "colab": {
          "base_uri": "https://localhost:8080/",
          "height": 423
        },
        "id": "-_glQqDv28C3",
        "outputId": "4b6ad119-5ad5-459c-a91e-34a6a3008f3d"
      },
      "execution_count": 15,
      "outputs": [
        {
          "output_type": "display_data",
          "data": {
            "text/plain": [
              "<Figure size 1080x504 with 1 Axes>"
            ],
            "image/png": "[encoded data removed]"
          },
          "metadata": {
            "needs_background": "light"
          }
        }
      ]
    },
    {
      "cell_type": "code",
      "source": [
        "kmeans = KMeans(n_clusters=4)\n",
        "kmeans.fit(X1)\n",
        "y_kmeans = kmeans.predict(X1)"
      ],
      "metadata": {
        "id": "yrZ-TaAeey5P"
      },
      "execution_count": 24,
      "outputs": []
    },
    {
      "cell_type": "code",
      "source": [
        "X1 = df[['population' , 'fatalities']].iloc[: , :].values\n",
        "inertia = []\n",
        "for n in range(1 , 15):\n",
        "    algorithm = (KMeans(n_clusters = n ,init='k-means++', n_init = 10 ,max_iter=300, \n",
        "                        tol=0.0001,  random_state= 111  , algorithm='elkan') )\n",
        "    algorithm.fit(X1)\n",
        "    inertia.append(algorithm.inertia_)"
      ],
      "metadata": {
        "id": "3tL7ZXD344TZ"
      },
      "execution_count": 16,
      "outputs": []
    },
    {
      "cell_type": "code",
      "source": [
        "from sklearn.cluster import KMeans\n",
        "Kmean = KMeans(n_clusters=4)\n",
        "Kmean.fit(X1)"
      ],
      "metadata": {
        "colab": {
          "base_uri": "https://localhost:8080/"
        },
        "id": "zvfD6XS3ar6A",
        "outputId": "65fff2fc-e5a1-4b30-c89f-70eabb0fe15b"
      },
      "execution_count": 17,
      "outputs": [
        {
          "output_type": "execute_result",
          "data": {
            "text/plain": [
              "KMeans(n_clusters=4)"
            ]
          },
          "metadata": {},
          "execution_count": 17
        }
      ]
    },
    {
      "cell_type": "code",
      "source": [
        "algorithm = (KMeans(n_clusters = 6 ,init='k-means++', n_init = 10 ,max_iter=300, \n",
        "                        tol=0.0001,  random_state= 111  , algorithm='elkan') )"
      ],
      "metadata": {
        "id": "lZ269ctmbASW"
      },
      "execution_count": 18,
      "outputs": []
    },
    {
      "cell_type": "code",
      "source": [
        "plt.scatter(X1[:, 0], X1[:, 1], c=y_kmeans, s=20, cmap='summer')\n",
        "centers = kmeans.cluster_centers_\n",
        "plt.scatter(centers[:, 0], centers[:, 1], c='blue', s=100, alpha=0.9);\n",
        "plt.show()"
      ],
      "metadata": {
        "colab": {
          "base_uri": "https://localhost:8080/",
          "height": 278
        },
        "id": "U_04XRjjgCTm",
        "outputId": "35fd78af-61b7-456f-8450-5c7591e3760a"
      },
      "execution_count": 25,
      "outputs": [
        {
          "output_type": "display_data",
          "data": {
            "text/plain": [
              "<Figure size 432x288 with 1 Axes>"
            ],
            "image/png": "[encoded data removed]"
          },
          "metadata": {
            "needs_background": "light"
          }
        }
      ]
    },
    {
      "cell_type": "code",
      "source": [
        "Kmean.cluster_centers_"
      ],
      "metadata": {
        "colab": {
          "base_uri": "https://localhost:8080/"
        },
        "id": "vytDQ-HdbYT2",
        "outputId": "d3dfba48-7236-44cd-e7c8-d45b567868f0"
      },
      "execution_count": 19,
      "outputs": [
        {
          "output_type": "execute_result",
          "data": {
            "text/plain": [
              "array([[1.34330000e+04, 6.10554979e+00],\n",
              "       [1.39981400e+06, 1.75000000e+00],\n",
              "       [5.77778667e+05, 5.00000000e+00],\n",
              "       [1.88498556e+05, 3.27324420e+00]])"
            ]
          },
          "metadata": {},
          "execution_count": 19
        }
      ]
    },
    {
      "cell_type": "code",
      "source": [
        "Kmean.labels_"
      ],
      "metadata": {
        "colab": {
          "base_uri": "https://localhost:8080/"
        },
        "id": "ER5w-gL-bhcH",
        "outputId": "2527abc3-3183-45ee-bb01-68644de9c7e3"
      },
      "execution_count": 20,
      "outputs": [
        {
          "output_type": "execute_result",
          "data": {
            "text/plain": [
              "array([2, 0, 3, 0, 0, 0, 0, 3, 0, 2, 0, 1, 3, 0, 0, 0, 3, 0, 3, 0, 0, 3,\n",
              "       0, 2, 0, 0, 0, 1, 1, 0, 0, 0, 0, 3, 0, 0, 0, 0, 0, 3, 0, 3, 0, 0,\n",
              "       0, 0, 1, 0], dtype=int32)"
            ]
          },
          "metadata": {},
          "execution_count": 20
        }
      ]
    },
    {
      "cell_type": "code",
      "source": [
        "sample_test=np.array([-3.0,-3.0])\n",
        "second_test=sample_test.reshape(1, -1)\n",
        "Kmean.predict(second_test)\n"
      ],
      "metadata": {
        "colab": {
          "base_uri": "https://localhost:8080/"
        },
        "id": "1OLG5307d15X",
        "outputId": "8d7cc897-cf2b-4f82-83b7-021bbd586eff"
      },
      "execution_count": 22,
      "outputs": [
        {
          "output_type": "execute_result",
          "data": {
            "text/plain": [
              "array([0], dtype=int32)"
            ]
          },
          "metadata": {},
          "execution_count": 22
        }
      ]
    },
    {
      "cell_type": "code",
      "source": [
        "plt.figure(1 , figsize = (15 ,6))\n",
        "plt.plot(np.arange(1 , 15) , inertia , 'o')\n",
        "plt.plot(np.arange(1 , 15) , inertia , '-' , alpha = 0.5)\n",
        "plt.xlabel('population') , plt.ylabel('fatalities')\n",
        "plt.show()"
      ],
      "metadata": {
        "colab": {
          "base_uri": "https://localhost:8080/",
          "height": 381
        },
        "id": "xj6UDK1c59i8",
        "outputId": "885d4ea5-8ae0-47e0-a144-5d7922d44db8"
      },
      "execution_count": 23,
      "outputs": [
        {
          "output_type": "display_data",
          "data": {
            "text/plain": [
              "<Figure size 1080x432 with 1 Axes>"
            ],
            "image/png": "[encoded data removed]"
          },
          "metadata": {
            "needs_background": "light"
          }
        }
      ]
    },
    {
      "cell_type": "code",
      "source": [
        "algorithm = (KMeans(n_clusters = 6 ,init='k-means++', n_init = 10 ,max_iter=300, \n",
        "                        tol=0.0001,  random_state= 111  , algorithm='elkan') )\n",
        "algorithm.fit(X1)\n",
        "labels1 = algorithm.labels_\n",
        "centroids1 = algorithm.cluster_centers_\n",
        "centroids1"
      ],
      "metadata": {
        "id": "gKj-sd0w6GQv",
        "colab": {
          "base_uri": "https://localhost:8080/"
        },
        "outputId": "72dd0d15-ca54-4c05-b970-4aaec4092021"
      },
      "execution_count": 45,
      "outputs": [
        {
          "output_type": "execute_result",
          "data": {
            "text/plain": [
              "array([[8.92930000e+03, 6.31258645e+00],\n",
              "       [1.39981400e+06, 1.75000000e+00],\n",
              "       [7.21398000e+05, 0.00000000e+00],\n",
              "       [2.50583750e+05, 1.25000000e+00],\n",
              "       [1.22304143e+05, 4.35131397e+00],\n",
              "       [5.05969000e+05, 7.50000000e+00]])"
            ]
          },
          "metadata": {},
          "execution_count": 45
        }
      ]
    },
    {
      "cell_type": "code",
      "source": [
        "h = 0.02\n",
        "x_min, x_max = X1[:, 0].min() - 1, X1[:, 0].max() + 1\n",
        "y_min, y_max = X1[:, 1].min() - 1, X1[:, 1].max() + 1\n",
        "xx, yy = np.meshgrid(np.arange(x_min, x_max, h), np.arange(y_min, y_max, h))\n",
        "Z = algorithm.predict(np.c_[xx.ravel(), yy.ravel()]) "
      ],
      "metadata": {
        "id": "MFY1o1DH6Kbo"
      },
      "execution_count": null,
      "outputs": []
    }
  ]
}