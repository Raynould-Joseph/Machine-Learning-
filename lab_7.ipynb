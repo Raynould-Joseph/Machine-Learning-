{
  "nbformat": 4,
  "nbformat_minor": 0,
  "metadata": {
    "colab": {
      "provenance": [],
      "authorship_tag": "ABX9TyMgOfQSvkfs06Uxx2dg0pd2",
      "include_colab_link": true
    },
    "kernelspec": {
      "name": "python3",
      "display_name": "Python 3"
    },
    "language_info": {
      "name": "python"
    }
  },
  "cells": [
    {
      "cell_type": "markdown",
      "metadata": {
        "id": "view-in-github",
        "colab_type": "text"
      },
      "source": [
        "<a href=\"https://colab.research.google.com/github/Raynould-Joseph/Machine-Learning-/blob/main/lab_7.ipynb\" target=\"_parent\"><img src=\"https://colab.research.google.com/assets/colab-badge.svg\" alt=\"Open In Colab\"/></a>"
      ]
    },
    {
      "cell_type": "code",
      "source": [
        "# import pandas module\n",
        "import pandas as pd\n",
        "import numpy as np"
      ],
      "metadata": {
        "id": "zYdMdhsnNgCm"
      },
      "execution_count": 3,
      "outputs": []
    },
    {
      "cell_type": "code",
      "source": [
        "from google.colab import drive\n",
        "drive.mount('/content/gdrive')"
      ],
      "metadata": {
        "colab": {
          "base_uri": "https://localhost:8080/"
        },
        "id": "tWeK4amvNlwD",
        "outputId": "893bdc4f-0c1b-4a6d-a12c-fe93846193ee"
      },
      "execution_count": 4,
      "outputs": [
        {
          "output_type": "stream",
          "name": "stdout",
          "text": [
            "Mounted at /content/gdrive\n"
          ]
        }
      ]
    },
    {
      "cell_type": "code",
      "source": [
        "df=pd.read_csv('/content/sample_data/play.csv')\n",
        "df.head()\n",
        "# PlayTennis= open('/content/sample_data/play.csv', 'r')\n",
        "# data = inputdata.read()\n",
        "# PlayTennis = PlayTennis.replace(np.nan, 0)\n",
        "# PlayTennis.replace([np.inf, -np.inf], 0, inplace=True)"
      ],
      "metadata": {
        "id": "r7n-w9UdN0U5"
      },
      "execution_count": null,
      "outputs": []
    }
  ]
}